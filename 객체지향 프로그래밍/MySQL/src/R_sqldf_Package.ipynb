{
  "nbformat": 4,
  "nbformat_minor": 0,
  "metadata": {
    "colab": {
      "provenance": []
    },
    "kernelspec": {
      "name": "ir",
      "display_name": "R"
    },
    "language_info": {
      "name": "R"
    }
  },
  "cells": [
    {
      "cell_type": "markdown",
      "source": [
        "# R sqldf Package"
      ],
      "metadata": {
        "id": "TSkqUHklMJJT"
      }
    },
    {
      "cell_type": "markdown",
      "source": [
        "## 1. \"sqldf\" Package"
      ],
      "metadata": {
        "id": "wMt2CcVNMLuZ"
      }
    },
    {
      "cell_type": "markdown",
      "source": [
        "### 1) Install \"sqldf\" Package"
      ],
      "metadata": {
        "id": "21ceU7hhMNXA"
      }
    },
    {
      "cell_type": "code",
      "execution_count": 1,
      "metadata": {
        "colab": {
          "base_uri": "https://localhost:8080/"
        },
        "id": "CWRIZrImMDSC",
        "outputId": "7690c7f0-1bf5-4b90-edbb-80627016f9c2"
      },
      "outputs": [
        {
          "metadata": {
            "tags": null
          },
          "name": "stderr",
          "output_type": "stream",
          "text": [
            "Downloading GitHub repo ggrothendieck/sqldf@HEAD\n",
            "\n"
          ]
        },
        {
          "metadata": {
            "tags": null
          },
          "name": "stdout",
          "output_type": "stream",
          "text": [
            "bit     (4.0.4 -> 4.0.5 ) [CRAN]\n",
            "plogr   (NA    -> 0.2.0 ) [CRAN]\n",
            "proto   (NA    -> 1.0.0 ) [CRAN]\n",
            "chron   (NA    -> 2.3-61) [CRAN]\n",
            "RSQLite (NA    -> 2.3.1 ) [CRAN]\n",
            "gsubfn  (NA    -> 0.7   ) [CRAN]\n"
          ]
        },
        {
          "metadata": {
            "tags": null
          },
          "name": "stderr",
          "output_type": "stream",
          "text": [
            "Installing 6 packages: bit, plogr, proto, chron, RSQLite, gsubfn\n",
            "\n",
            "Installing packages into ‘/usr/local/lib/R/site-library’\n",
            "(as ‘lib’ is unspecified)\n",
            "\n"
          ]
        },
        {
          "output_type": "stream",
          "name": "stdout",
          "text": [
            "\u001b[36m──\u001b[39m \u001b[36mR CMD build\u001b[39m \u001b[36m─────────────────────────────────────────────────────────────────\u001b[39m\n",
            "* checking for file ‘/tmp/RtmpCqf4cQ/remotes1d73481a779/ggrothendieck-sqldf-ba33807/DESCRIPTION’ ... OK\n",
            "* preparing ‘sqldf’:\n",
            "* checking DESCRIPTION meta-information ... OK\n",
            "* checking for LF line-endings in source and make files and shell scripts\n",
            "* checking for empty or unneeded directories\n",
            "* building ‘sqldf_0.4-11.tar.gz’\n",
            "\n"
          ]
        },
        {
          "output_type": "stream",
          "name": "stderr",
          "text": [
            "Installing package into ‘/usr/local/lib/R/site-library’\n",
            "(as ‘lib’ is unspecified)\n",
            "\n"
          ]
        }
      ],
      "source": [
        "devtools::install_github(\"ggrothendieck/sqldf\")"
      ]
    },
    {
      "cell_type": "markdown",
      "source": [
        "### 2) Installed Packages"
      ],
      "metadata": {
        "id": "BcS4CKuhM5Rk"
      }
    },
    {
      "cell_type": "code",
      "source": [
        "library()"
      ],
      "metadata": {
        "id": "OAprL4QpMSt7"
      },
      "execution_count": 2,
      "outputs": []
    },
    {
      "cell_type": "markdown",
      "source": [
        "### 3) Import \"sqldf\" Package"
      ],
      "metadata": {
        "id": "-LuXQsA5NEh5"
      }
    },
    {
      "cell_type": "code",
      "source": [
        "library(sqldf)"
      ],
      "metadata": {
        "colab": {
          "base_uri": "https://localhost:8080/"
        },
        "id": "MiyIz65ONDCD",
        "outputId": "7ab5ef27-d06c-466f-b905-79fc689c1ddd"
      },
      "execution_count": 4,
      "outputs": [
        {
          "output_type": "stream",
          "name": "stderr",
          "text": [
            "Loading required package: gsubfn\n",
            "\n",
            "Loading required package: proto\n",
            "\n",
            "Warning message:\n",
            "“no DISPLAY variable so Tk is not available”\n",
            "Loading required package: RSQLite\n",
            "\n"
          ]
        }
      ]
    },
    {
      "cell_type": "markdown",
      "source": [
        "## 2. Load Data"
      ],
      "metadata": {
        "id": "i7BiqO2xNJrv"
      }
    },
    {
      "cell_type": "markdown",
      "source": [
        "* read.csv()"
      ],
      "metadata": {
        "id": "jbf69PdBNLRz"
      }
    },
    {
      "cell_type": "code",
      "source": [
        "url = 'https://raw.githubusercontent.com/rusita-ai/pyData/master/PII.csv'\n",
        "\n",
        "TB <- read.csv(url)"
      ],
      "metadata": {
        "id": "jH-QacQlNG11"
      },
      "execution_count": 5,
      "outputs": []
    },
    {
      "cell_type": "markdown",
      "source": [
        "* str()"
      ],
      "metadata": {
        "id": "bcAQQJ82NVt9"
      }
    },
    {
      "cell_type": "code",
      "source": [
        "str(TB)"
      ],
      "metadata": {
        "colab": {
          "base_uri": "https://localhost:8080/"
        },
        "id": "Hf47mEpqNUdZ",
        "outputId": "a86c0e99-0da6-40d3-ab0a-4e8a726fdd76"
      },
      "execution_count": 7,
      "outputs": [
        {
          "output_type": "stream",
          "name": "stdout",
          "text": [
            "'data.frame':\t17 obs. of  8 variables:\n",
            " $ Name     : chr  \"송태섭\" \"최유정\" \"이한나\" \"김소혜\" ...\n",
            " $ Gender   : chr  \"남자\" \"여자\" \"여자\" \"여자\" ...\n",
            " $ Age      : int  21 23 20 23 24 24 22 22 23 22 ...\n",
            " $ Grade    : int  3 1 1 3 4 2 4 2 3 2 ...\n",
            " $ Picture  : chr  \"무\" \"유\" \"무\" \"무\" ...\n",
            " $ BloodType: chr  \"B\" \"A\" \"A\" \"O\" ...\n",
            " $ Height   : num  179 177 168 176 176 ...\n",
            " $ Weight   : num  63.9 54.9 50.2 53.5 79.8 61.7 69.8 52.7 68.5 52.3 ...\n"
          ]
        }
      ]
    },
    {
      "cell_type": "markdown",
      "source": [
        "* head()"
      ],
      "metadata": {
        "id": "Aq_h_WgWNZtf"
      }
    },
    {
      "cell_type": "code",
      "source": [
        "head(TB, 5)"
      ],
      "metadata": {
        "colab": {
          "base_uri": "https://localhost:8080/",
          "height": 255
        },
        "id": "l7mIOMywNXV6",
        "outputId": "9ea2bc55-dc80-40cd-ac8b-c5d0d62ec6a7"
      },
      "execution_count": 8,
      "outputs": [
        {
          "output_type": "display_data",
          "data": {
            "text/html": [
              "<table class=\"dataframe\">\n",
              "<caption>A data.frame: 5 × 8</caption>\n",
              "<thead>\n",
              "\t<tr><th></th><th scope=col>Name</th><th scope=col>Gender</th><th scope=col>Age</th><th scope=col>Grade</th><th scope=col>Picture</th><th scope=col>BloodType</th><th scope=col>Height</th><th scope=col>Weight</th></tr>\n",
              "\t<tr><th></th><th scope=col>&lt;chr&gt;</th><th scope=col>&lt;chr&gt;</th><th scope=col>&lt;int&gt;</th><th scope=col>&lt;int&gt;</th><th scope=col>&lt;chr&gt;</th><th scope=col>&lt;chr&gt;</th><th scope=col>&lt;dbl&gt;</th><th scope=col>&lt;dbl&gt;</th></tr>\n",
              "</thead>\n",
              "<tbody>\n",
              "\t<tr><th scope=row>1</th><td>송태섭</td><td>남자</td><td>21</td><td>3</td><td>무</td><td>B</td><td>179.1</td><td>63.9</td></tr>\n",
              "\t<tr><th scope=row>2</th><td>최유정</td><td>여자</td><td>23</td><td>1</td><td>유</td><td>A</td><td>177.1</td><td>54.9</td></tr>\n",
              "\t<tr><th scope=row>3</th><td>이한나</td><td>여자</td><td>20</td><td>1</td><td>무</td><td>A</td><td>167.9</td><td>50.2</td></tr>\n",
              "\t<tr><th scope=row>4</th><td>김소혜</td><td>여자</td><td>23</td><td>3</td><td>무</td><td>O</td><td>176.1</td><td>53.5</td></tr>\n",
              "\t<tr><th scope=row>5</th><td>서태웅</td><td>남자</td><td>24</td><td>4</td><td>무</td><td>B</td><td>176.1</td><td>79.8</td></tr>\n",
              "</tbody>\n",
              "</table>\n"
            ],
            "text/markdown": "\nA data.frame: 5 × 8\n\n| <!--/--> | Name &lt;chr&gt; | Gender &lt;chr&gt; | Age &lt;int&gt; | Grade &lt;int&gt; | Picture &lt;chr&gt; | BloodType &lt;chr&gt; | Height &lt;dbl&gt; | Weight &lt;dbl&gt; |\n|---|---|---|---|---|---|---|---|---|\n| 1 | 송태섭 | 남자 | 21 | 3 | 무 | B | 179.1 | 63.9 |\n| 2 | 최유정 | 여자 | 23 | 1 | 유 | A | 177.1 | 54.9 |\n| 3 | 이한나 | 여자 | 20 | 1 | 무 | A | 167.9 | 50.2 |\n| 4 | 김소혜 | 여자 | 23 | 3 | 무 | O | 176.1 | 53.5 |\n| 5 | 서태웅 | 남자 | 24 | 4 | 무 | B | 176.1 | 79.8 |\n\n",
            "text/latex": "A data.frame: 5 × 8\n\\begin{tabular}{r|llllllll}\n  & Name & Gender & Age & Grade & Picture & BloodType & Height & Weight\\\\\n  & <chr> & <chr> & <int> & <int> & <chr> & <chr> & <dbl> & <dbl>\\\\\n\\hline\n\t1 & 송태섭 & 남자 & 21 & 3 & 무 & B & 179.1 & 63.9\\\\\n\t2 & 최유정 & 여자 & 23 & 1 & 유 & A & 177.1 & 54.9\\\\\n\t3 & 이한나 & 여자 & 20 & 1 & 무 & A & 167.9 & 50.2\\\\\n\t4 & 김소혜 & 여자 & 23 & 3 & 무 & O & 176.1 & 53.5\\\\\n\t5 & 서태웅 & 남자 & 24 & 4 & 무 & B & 176.1 & 79.8\\\\\n\\end{tabular}\n",
            "text/plain": [
              "  Name   Gender Age Grade Picture BloodType Height Weight\n",
              "1 송태섭 남자   21  3     무      B         179.1  63.9  \n",
              "2 최유정 여자   23  1     유      A         177.1  54.9  \n",
              "3 이한나 여자   20  1     무      A         167.9  50.2  \n",
              "4 김소혜 여자   23  3     무      O         176.1  53.5  \n",
              "5 서태웅 남자   24  4     무      B         176.1  79.8  "
            ]
          },
          "metadata": {}
        }
      ]
    },
    {
      "cell_type": "markdown",
      "source": [
        "## 3. SQL 수행"
      ],
      "metadata": {
        "id": "99igILZ5NckX"
      }
    },
    {
      "cell_type": "markdown",
      "source": [
        "### 1) \"SELECT * FROM Table_Name\""
      ],
      "metadata": {
        "id": "X_jP8jMDNdtR"
      }
    },
    {
      "cell_type": "code",
      "source": [
        "sqldf(\"SELECT Height FROM TB\")"
      ],
      "metadata": {
        "colab": {
          "base_uri": "https://localhost:8080/",
          "height": 666
        },
        "id": "ocnQ75KcNbza",
        "outputId": "7870fb7a-bbd5-49d1-dce3-65f2c7451303"
      },
      "execution_count": 9,
      "outputs": [
        {
          "output_type": "display_data",
          "data": {
            "text/html": [
              "<table class=\"dataframe\">\n",
              "<caption>A data.frame: 17 × 1</caption>\n",
              "<thead>\n",
              "\t<tr><th scope=col>Height</th></tr>\n",
              "\t<tr><th scope=col>&lt;dbl&gt;</th></tr>\n",
              "</thead>\n",
              "<tbody>\n",
              "\t<tr><td>179.1</td></tr>\n",
              "\t<tr><td>177.1</td></tr>\n",
              "\t<tr><td>167.9</td></tr>\n",
              "\t<tr><td>176.1</td></tr>\n",
              "\t<tr><td>176.1</td></tr>\n",
              "\t<tr><td>175.2</td></tr>\n",
              "\t<tr><td>169.1</td></tr>\n",
              "\t<tr><td>169.9</td></tr>\n",
              "\t<tr><td>165.5</td></tr>\n",
              "\t<tr><td>161.9</td></tr>\n",
              "\t<tr><td>163.2</td></tr>\n",
              "\t<tr><td>157.8</td></tr>\n",
              "\t<tr><td>166.9</td></tr>\n",
              "\t<tr><td>181.8</td></tr>\n",
              "\t<tr><td>180.3</td></tr>\n",
              "\t<tr><td>155.5</td></tr>\n",
              "\t<tr><td>168.9</td></tr>\n",
              "</tbody>\n",
              "</table>\n"
            ],
            "text/markdown": "\nA data.frame: 17 × 1\n\n| Height &lt;dbl&gt; |\n|---|\n| 179.1 |\n| 177.1 |\n| 167.9 |\n| 176.1 |\n| 176.1 |\n| 175.2 |\n| 169.1 |\n| 169.9 |\n| 165.5 |\n| 161.9 |\n| 163.2 |\n| 157.8 |\n| 166.9 |\n| 181.8 |\n| 180.3 |\n| 155.5 |\n| 168.9 |\n\n",
            "text/latex": "A data.frame: 17 × 1\n\\begin{tabular}{l}\n Height\\\\\n <dbl>\\\\\n\\hline\n\t 179.1\\\\\n\t 177.1\\\\\n\t 167.9\\\\\n\t 176.1\\\\\n\t 176.1\\\\\n\t 175.2\\\\\n\t 169.1\\\\\n\t 169.9\\\\\n\t 165.5\\\\\n\t 161.9\\\\\n\t 163.2\\\\\n\t 157.8\\\\\n\t 166.9\\\\\n\t 181.8\\\\\n\t 180.3\\\\\n\t 155.5\\\\\n\t 168.9\\\\\n\\end{tabular}\n",
            "text/plain": [
              "   Height\n",
              "1  179.1 \n",
              "2  177.1 \n",
              "3  167.9 \n",
              "4  176.1 \n",
              "5  176.1 \n",
              "6  175.2 \n",
              "7  169.1 \n",
              "8  169.9 \n",
              "9  165.5 \n",
              "10 161.9 \n",
              "11 163.2 \n",
              "12 157.8 \n",
              "13 166.9 \n",
              "14 181.8 \n",
              "15 180.3 \n",
              "16 155.5 \n",
              "17 168.9 "
            ]
          },
          "metadata": {}
        }
      ]
    },
    {
      "cell_type": "markdown",
      "source": [
        "* import \"dplyr\" Package"
      ],
      "metadata": {
        "id": "QBi3e4Y_NnRn"
      }
    },
    {
      "cell_type": "code",
      "source": [
        "library(dplyr)"
      ],
      "metadata": {
        "colab": {
          "base_uri": "https://localhost:8080/"
        },
        "id": "cPeqnYocNlSm",
        "outputId": "44fc0913-9773-4585-d8ee-3de1ee267ee2"
      },
      "execution_count": 10,
      "outputs": [
        {
          "output_type": "stream",
          "name": "stderr",
          "text": [
            "\n",
            "Attaching package: ‘dplyr’\n",
            "\n",
            "\n",
            "The following objects are masked from ‘package:stats’:\n",
            "\n",
            "    filter, lag\n",
            "\n",
            "\n",
            "The following objects are masked from ‘package:base’:\n",
            "\n",
            "    intersect, setdiff, setequal, union\n",
            "\n",
            "\n"
          ]
        }
      ]
    },
    {
      "cell_type": "code",
      "source": [
        "sqldf(\"SELECT Gender, Height FROM TB\") %>% head(3)"
      ],
      "metadata": {
        "colab": {
          "base_uri": "https://localhost:8080/",
          "height": 192
        },
        "id": "vFepJXEnNqkS",
        "outputId": "20322f42-d275-4493-802a-308a8864c0fc"
      },
      "execution_count": 11,
      "outputs": [
        {
          "output_type": "display_data",
          "data": {
            "text/html": [
              "<table class=\"dataframe\">\n",
              "<caption>A data.frame: 3 × 2</caption>\n",
              "<thead>\n",
              "\t<tr><th></th><th scope=col>Gender</th><th scope=col>Height</th></tr>\n",
              "\t<tr><th></th><th scope=col>&lt;chr&gt;</th><th scope=col>&lt;dbl&gt;</th></tr>\n",
              "</thead>\n",
              "<tbody>\n",
              "\t<tr><th scope=row>1</th><td>남자</td><td>179.1</td></tr>\n",
              "\t<tr><th scope=row>2</th><td>여자</td><td>177.1</td></tr>\n",
              "\t<tr><th scope=row>3</th><td>여자</td><td>167.9</td></tr>\n",
              "</tbody>\n",
              "</table>\n"
            ],
            "text/markdown": "\nA data.frame: 3 × 2\n\n| <!--/--> | Gender &lt;chr&gt; | Height &lt;dbl&gt; |\n|---|---|---|\n| 1 | 남자 | 179.1 |\n| 2 | 여자 | 177.1 |\n| 3 | 여자 | 167.9 |\n\n",
            "text/latex": "A data.frame: 3 × 2\n\\begin{tabular}{r|ll}\n  & Gender & Height\\\\\n  & <chr> & <dbl>\\\\\n\\hline\n\t1 & 남자 & 179.1\\\\\n\t2 & 여자 & 177.1\\\\\n\t3 & 여자 & 167.9\\\\\n\\end{tabular}\n",
            "text/plain": [
              "  Gender Height\n",
              "1 남자   179.1 \n",
              "2 여자   177.1 \n",
              "3 여자   167.9 "
            ]
          },
          "metadata": {}
        }
      ]
    },
    {
      "cell_type": "code",
      "source": [
        "sqldf(\"SELECT Name, Height FROM TB\") %>% head(3)"
      ],
      "metadata": {
        "colab": {
          "base_uri": "https://localhost:8080/",
          "height": 192
        },
        "id": "tMMtkmsyNuq3",
        "outputId": "82a3b8f6-c546-40a6-fd82-a4b549a2cca2"
      },
      "execution_count": 12,
      "outputs": [
        {
          "output_type": "display_data",
          "data": {
            "text/html": [
              "<table class=\"dataframe\">\n",
              "<caption>A data.frame: 3 × 2</caption>\n",
              "<thead>\n",
              "\t<tr><th></th><th scope=col>Name</th><th scope=col>Height</th></tr>\n",
              "\t<tr><th></th><th scope=col>&lt;chr&gt;</th><th scope=col>&lt;dbl&gt;</th></tr>\n",
              "</thead>\n",
              "<tbody>\n",
              "\t<tr><th scope=row>1</th><td>송태섭</td><td>179.1</td></tr>\n",
              "\t<tr><th scope=row>2</th><td>최유정</td><td>177.1</td></tr>\n",
              "\t<tr><th scope=row>3</th><td>이한나</td><td>167.9</td></tr>\n",
              "</tbody>\n",
              "</table>\n"
            ],
            "text/markdown": "\nA data.frame: 3 × 2\n\n| <!--/--> | Name &lt;chr&gt; | Height &lt;dbl&gt; |\n|---|---|---|\n| 1 | 송태섭 | 179.1 |\n| 2 | 최유정 | 177.1 |\n| 3 | 이한나 | 167.9 |\n\n",
            "text/latex": "A data.frame: 3 × 2\n\\begin{tabular}{r|ll}\n  & Name & Height\\\\\n  & <chr> & <dbl>\\\\\n\\hline\n\t1 & 송태섭 & 179.1\\\\\n\t2 & 최유정 & 177.1\\\\\n\t3 & 이한나 & 167.9\\\\\n\\end{tabular}\n",
            "text/plain": [
              "  Name   Height\n",
              "1 송태섭 179.1 \n",
              "2 최유정 177.1 \n",
              "3 이한나 167.9 "
            ]
          },
          "metadata": {}
        }
      ]
    },
    {
      "cell_type": "code",
      "source": [
        "sqldf(\"SELECT Gender, Height, BloodType FROM TB\") %>% head(3)"
      ],
      "metadata": {
        "colab": {
          "base_uri": "https://localhost:8080/",
          "height": 192
        },
        "id": "v3bj581ONzim",
        "outputId": "936e5fcb-83ca-4943-d4cc-c8ed516b9337"
      },
      "execution_count": 13,
      "outputs": [
        {
          "output_type": "display_data",
          "data": {
            "text/html": [
              "<table class=\"dataframe\">\n",
              "<caption>A data.frame: 3 × 3</caption>\n",
              "<thead>\n",
              "\t<tr><th></th><th scope=col>Gender</th><th scope=col>Height</th><th scope=col>BloodType</th></tr>\n",
              "\t<tr><th></th><th scope=col>&lt;chr&gt;</th><th scope=col>&lt;dbl&gt;</th><th scope=col>&lt;chr&gt;</th></tr>\n",
              "</thead>\n",
              "<tbody>\n",
              "\t<tr><th scope=row>1</th><td>남자</td><td>179.1</td><td>B</td></tr>\n",
              "\t<tr><th scope=row>2</th><td>여자</td><td>177.1</td><td>A</td></tr>\n",
              "\t<tr><th scope=row>3</th><td>여자</td><td>167.9</td><td>A</td></tr>\n",
              "</tbody>\n",
              "</table>\n"
            ],
            "text/markdown": "\nA data.frame: 3 × 3\n\n| <!--/--> | Gender &lt;chr&gt; | Height &lt;dbl&gt; | BloodType &lt;chr&gt; |\n|---|---|---|---|\n| 1 | 남자 | 179.1 | B |\n| 2 | 여자 | 177.1 | A |\n| 3 | 여자 | 167.9 | A |\n\n",
            "text/latex": "A data.frame: 3 × 3\n\\begin{tabular}{r|lll}\n  & Gender & Height & BloodType\\\\\n  & <chr> & <dbl> & <chr>\\\\\n\\hline\n\t1 & 남자 & 179.1 & B\\\\\n\t2 & 여자 & 177.1 & A\\\\\n\t3 & 여자 & 167.9 & A\\\\\n\\end{tabular}\n",
            "text/plain": [
              "  Gender Height BloodType\n",
              "1 남자   179.1  B        \n",
              "2 여자   177.1  A        \n",
              "3 여자   167.9  A        "
            ]
          },
          "metadata": {}
        }
      ]
    },
    {
      "cell_type": "code",
      "source": [
        "sqldf(\"SELECT * FROM TB\") %>% head(3)"
      ],
      "metadata": {
        "colab": {
          "base_uri": "https://localhost:8080/",
          "height": 192
        },
        "id": "TwJEj9IfN3xk",
        "outputId": "a55f24f2-cf3e-4e5f-99b7-13f56e50f6f5"
      },
      "execution_count": 14,
      "outputs": [
        {
          "output_type": "display_data",
          "data": {
            "text/html": [
              "<table class=\"dataframe\">\n",
              "<caption>A data.frame: 3 × 8</caption>\n",
              "<thead>\n",
              "\t<tr><th></th><th scope=col>Name</th><th scope=col>Gender</th><th scope=col>Age</th><th scope=col>Grade</th><th scope=col>Picture</th><th scope=col>BloodType</th><th scope=col>Height</th><th scope=col>Weight</th></tr>\n",
              "\t<tr><th></th><th scope=col>&lt;chr&gt;</th><th scope=col>&lt;chr&gt;</th><th scope=col>&lt;int&gt;</th><th scope=col>&lt;int&gt;</th><th scope=col>&lt;chr&gt;</th><th scope=col>&lt;chr&gt;</th><th scope=col>&lt;dbl&gt;</th><th scope=col>&lt;dbl&gt;</th></tr>\n",
              "</thead>\n",
              "<tbody>\n",
              "\t<tr><th scope=row>1</th><td>송태섭</td><td>남자</td><td>21</td><td>3</td><td>무</td><td>B</td><td>179.1</td><td>63.9</td></tr>\n",
              "\t<tr><th scope=row>2</th><td>최유정</td><td>여자</td><td>23</td><td>1</td><td>유</td><td>A</td><td>177.1</td><td>54.9</td></tr>\n",
              "\t<tr><th scope=row>3</th><td>이한나</td><td>여자</td><td>20</td><td>1</td><td>무</td><td>A</td><td>167.9</td><td>50.2</td></tr>\n",
              "</tbody>\n",
              "</table>\n"
            ],
            "text/markdown": "\nA data.frame: 3 × 8\n\n| <!--/--> | Name &lt;chr&gt; | Gender &lt;chr&gt; | Age &lt;int&gt; | Grade &lt;int&gt; | Picture &lt;chr&gt; | BloodType &lt;chr&gt; | Height &lt;dbl&gt; | Weight &lt;dbl&gt; |\n|---|---|---|---|---|---|---|---|---|\n| 1 | 송태섭 | 남자 | 21 | 3 | 무 | B | 179.1 | 63.9 |\n| 2 | 최유정 | 여자 | 23 | 1 | 유 | A | 177.1 | 54.9 |\n| 3 | 이한나 | 여자 | 20 | 1 | 무 | A | 167.9 | 50.2 |\n\n",
            "text/latex": "A data.frame: 3 × 8\n\\begin{tabular}{r|llllllll}\n  & Name & Gender & Age & Grade & Picture & BloodType & Height & Weight\\\\\n  & <chr> & <chr> & <int> & <int> & <chr> & <chr> & <dbl> & <dbl>\\\\\n\\hline\n\t1 & 송태섭 & 남자 & 21 & 3 & 무 & B & 179.1 & 63.9\\\\\n\t2 & 최유정 & 여자 & 23 & 1 & 유 & A & 177.1 & 54.9\\\\\n\t3 & 이한나 & 여자 & 20 & 1 & 무 & A & 167.9 & 50.2\\\\\n\\end{tabular}\n",
            "text/plain": [
              "  Name   Gender Age Grade Picture BloodType Height Weight\n",
              "1 송태섭 남자   21  3     무      B         179.1  63.9  \n",
              "2 최유정 여자   23  1     유      A         177.1  54.9  \n",
              "3 이한나 여자   20  1     무      A         167.9  50.2  "
            ]
          },
          "metadata": {}
        }
      ]
    },
    {
      "cell_type": "markdown",
      "source": [
        "### 2) \"WHERE\" 조건구문"
      ],
      "metadata": {
        "id": "VI-ymto3ODzd"
      }
    },
    {
      "cell_type": "code",
      "source": [
        "sqldf(\"SELECT * FROM TB WHERE Height > 175\")"
      ],
      "metadata": {
        "colab": {
          "base_uri": "https://localhost:8080/",
          "height": 317
        },
        "id": "9E_kPUHUN7jM",
        "outputId": "ebe358bc-acfa-458c-f675-7eb1d853d239"
      },
      "execution_count": 15,
      "outputs": [
        {
          "output_type": "display_data",
          "data": {
            "text/html": [
              "<table class=\"dataframe\">\n",
              "<caption>A data.frame: 7 × 8</caption>\n",
              "<thead>\n",
              "\t<tr><th scope=col>Name</th><th scope=col>Gender</th><th scope=col>Age</th><th scope=col>Grade</th><th scope=col>Picture</th><th scope=col>BloodType</th><th scope=col>Height</th><th scope=col>Weight</th></tr>\n",
              "\t<tr><th scope=col>&lt;chr&gt;</th><th scope=col>&lt;chr&gt;</th><th scope=col>&lt;int&gt;</th><th scope=col>&lt;int&gt;</th><th scope=col>&lt;chr&gt;</th><th scope=col>&lt;chr&gt;</th><th scope=col>&lt;dbl&gt;</th><th scope=col>&lt;dbl&gt;</th></tr>\n",
              "</thead>\n",
              "<tbody>\n",
              "\t<tr><td>송태섭</td><td>남자</td><td>21</td><td>3</td><td>무</td><td>B </td><td>179.1</td><td>63.9</td></tr>\n",
              "\t<tr><td>최유정</td><td>여자</td><td>23</td><td>1</td><td>유</td><td>A </td><td>177.1</td><td>54.9</td></tr>\n",
              "\t<tr><td>김소혜</td><td>여자</td><td>23</td><td>3</td><td>무</td><td>O </td><td>176.1</td><td>53.5</td></tr>\n",
              "\t<tr><td>서태웅</td><td>남자</td><td>24</td><td>4</td><td>무</td><td>B </td><td>176.1</td><td>79.8</td></tr>\n",
              "\t<tr><td>정대만</td><td>남자</td><td>24</td><td>2</td><td>유</td><td>B </td><td>175.2</td><td>61.7</td></tr>\n",
              "\t<tr><td>채치수</td><td>남자</td><td>23</td><td>3</td><td>무</td><td>AB</td><td>181.8</td><td>85.9</td></tr>\n",
              "\t<tr><td>윤대협</td><td>남자</td><td>22</td><td>2</td><td>유</td><td>AB</td><td>180.3</td><td>76.2</td></tr>\n",
              "</tbody>\n",
              "</table>\n"
            ],
            "text/markdown": "\nA data.frame: 7 × 8\n\n| Name &lt;chr&gt; | Gender &lt;chr&gt; | Age &lt;int&gt; | Grade &lt;int&gt; | Picture &lt;chr&gt; | BloodType &lt;chr&gt; | Height &lt;dbl&gt; | Weight &lt;dbl&gt; |\n|---|---|---|---|---|---|---|---|\n| 송태섭 | 남자 | 21 | 3 | 무 | B  | 179.1 | 63.9 |\n| 최유정 | 여자 | 23 | 1 | 유 | A  | 177.1 | 54.9 |\n| 김소혜 | 여자 | 23 | 3 | 무 | O  | 176.1 | 53.5 |\n| 서태웅 | 남자 | 24 | 4 | 무 | B  | 176.1 | 79.8 |\n| 정대만 | 남자 | 24 | 2 | 유 | B  | 175.2 | 61.7 |\n| 채치수 | 남자 | 23 | 3 | 무 | AB | 181.8 | 85.9 |\n| 윤대협 | 남자 | 22 | 2 | 유 | AB | 180.3 | 76.2 |\n\n",
            "text/latex": "A data.frame: 7 × 8\n\\begin{tabular}{llllllll}\n Name & Gender & Age & Grade & Picture & BloodType & Height & Weight\\\\\n <chr> & <chr> & <int> & <int> & <chr> & <chr> & <dbl> & <dbl>\\\\\n\\hline\n\t 송태섭 & 남자 & 21 & 3 & 무 & B  & 179.1 & 63.9\\\\\n\t 최유정 & 여자 & 23 & 1 & 유 & A  & 177.1 & 54.9\\\\\n\t 김소혜 & 여자 & 23 & 3 & 무 & O  & 176.1 & 53.5\\\\\n\t 서태웅 & 남자 & 24 & 4 & 무 & B  & 176.1 & 79.8\\\\\n\t 정대만 & 남자 & 24 & 2 & 유 & B  & 175.2 & 61.7\\\\\n\t 채치수 & 남자 & 23 & 3 & 무 & AB & 181.8 & 85.9\\\\\n\t 윤대협 & 남자 & 22 & 2 & 유 & AB & 180.3 & 76.2\\\\\n\\end{tabular}\n",
            "text/plain": [
              "  Name   Gender Age Grade Picture BloodType Height Weight\n",
              "1 송태섭 남자   21  3     무      B         179.1  63.9  \n",
              "2 최유정 여자   23  1     유      A         177.1  54.9  \n",
              "3 김소혜 여자   23  3     무      O         176.1  53.5  \n",
              "4 서태웅 남자   24  4     무      B         176.1  79.8  \n",
              "5 정대만 남자   24  2     유      B         175.2  61.7  \n",
              "6 채치수 남자   23  3     무      AB        181.8  85.9  \n",
              "7 윤대협 남자   22  2     유      AB        180.3  76.2  "
            ]
          },
          "metadata": {}
        }
      ]
    },
    {
      "cell_type": "markdown",
      "source": [
        "#### (1) \" AND\" 연산"
      ],
      "metadata": {
        "id": "QBi977t2OKKT"
      }
    },
    {
      "cell_type": "code",
      "source": [
        "sqldf(\"SELECT * FROM TB WHERE Height > 175 AND Weight < 75\")"
      ],
      "metadata": {
        "colab": {
          "base_uri": "https://localhost:8080/",
          "height": 223
        },
        "id": "7hYw6K_kOIYQ",
        "outputId": "34718ee4-0035-41e8-d716-65f3a8a632fa"
      },
      "execution_count": 16,
      "outputs": [
        {
          "output_type": "display_data",
          "data": {
            "text/html": [
              "<table class=\"dataframe\">\n",
              "<caption>A data.frame: 4 × 8</caption>\n",
              "<thead>\n",
              "\t<tr><th scope=col>Name</th><th scope=col>Gender</th><th scope=col>Age</th><th scope=col>Grade</th><th scope=col>Picture</th><th scope=col>BloodType</th><th scope=col>Height</th><th scope=col>Weight</th></tr>\n",
              "\t<tr><th scope=col>&lt;chr&gt;</th><th scope=col>&lt;chr&gt;</th><th scope=col>&lt;int&gt;</th><th scope=col>&lt;int&gt;</th><th scope=col>&lt;chr&gt;</th><th scope=col>&lt;chr&gt;</th><th scope=col>&lt;dbl&gt;</th><th scope=col>&lt;dbl&gt;</th></tr>\n",
              "</thead>\n",
              "<tbody>\n",
              "\t<tr><td>송태섭</td><td>남자</td><td>21</td><td>3</td><td>무</td><td>B</td><td>179.1</td><td>63.9</td></tr>\n",
              "\t<tr><td>최유정</td><td>여자</td><td>23</td><td>1</td><td>유</td><td>A</td><td>177.1</td><td>54.9</td></tr>\n",
              "\t<tr><td>김소혜</td><td>여자</td><td>23</td><td>3</td><td>무</td><td>O</td><td>176.1</td><td>53.5</td></tr>\n",
              "\t<tr><td>정대만</td><td>남자</td><td>24</td><td>2</td><td>유</td><td>B</td><td>175.2</td><td>61.7</td></tr>\n",
              "</tbody>\n",
              "</table>\n"
            ],
            "text/markdown": "\nA data.frame: 4 × 8\n\n| Name &lt;chr&gt; | Gender &lt;chr&gt; | Age &lt;int&gt; | Grade &lt;int&gt; | Picture &lt;chr&gt; | BloodType &lt;chr&gt; | Height &lt;dbl&gt; | Weight &lt;dbl&gt; |\n|---|---|---|---|---|---|---|---|\n| 송태섭 | 남자 | 21 | 3 | 무 | B | 179.1 | 63.9 |\n| 최유정 | 여자 | 23 | 1 | 유 | A | 177.1 | 54.9 |\n| 김소혜 | 여자 | 23 | 3 | 무 | O | 176.1 | 53.5 |\n| 정대만 | 남자 | 24 | 2 | 유 | B | 175.2 | 61.7 |\n\n",
            "text/latex": "A data.frame: 4 × 8\n\\begin{tabular}{llllllll}\n Name & Gender & Age & Grade & Picture & BloodType & Height & Weight\\\\\n <chr> & <chr> & <int> & <int> & <chr> & <chr> & <dbl> & <dbl>\\\\\n\\hline\n\t 송태섭 & 남자 & 21 & 3 & 무 & B & 179.1 & 63.9\\\\\n\t 최유정 & 여자 & 23 & 1 & 유 & A & 177.1 & 54.9\\\\\n\t 김소혜 & 여자 & 23 & 3 & 무 & O & 176.1 & 53.5\\\\\n\t 정대만 & 남자 & 24 & 2 & 유 & B & 175.2 & 61.7\\\\\n\\end{tabular}\n",
            "text/plain": [
              "  Name   Gender Age Grade Picture BloodType Height Weight\n",
              "1 송태섭 남자   21  3     무      B         179.1  63.9  \n",
              "2 최유정 여자   23  1     유      A         177.1  54.9  \n",
              "3 김소혜 여자   23  3     무      O         176.1  53.5  \n",
              "4 정대만 남자   24  2     유      B         175.2  61.7  "
            ]
          },
          "metadata": {}
        }
      ]
    },
    {
      "cell_type": "code",
      "source": [
        "sqldf(\"SELECT * FROM TB WHERE Height > 175 AND Grade = 3\")"
      ],
      "metadata": {
        "colab": {
          "base_uri": "https://localhost:8080/",
          "height": 192
        },
        "id": "N80IwYF8OQs-",
        "outputId": "2794b3d5-1158-420e-95e2-e981347868ec"
      },
      "execution_count": 17,
      "outputs": [
        {
          "output_type": "display_data",
          "data": {
            "text/html": [
              "<table class=\"dataframe\">\n",
              "<caption>A data.frame: 3 × 8</caption>\n",
              "<thead>\n",
              "\t<tr><th scope=col>Name</th><th scope=col>Gender</th><th scope=col>Age</th><th scope=col>Grade</th><th scope=col>Picture</th><th scope=col>BloodType</th><th scope=col>Height</th><th scope=col>Weight</th></tr>\n",
              "\t<tr><th scope=col>&lt;chr&gt;</th><th scope=col>&lt;chr&gt;</th><th scope=col>&lt;int&gt;</th><th scope=col>&lt;int&gt;</th><th scope=col>&lt;chr&gt;</th><th scope=col>&lt;chr&gt;</th><th scope=col>&lt;dbl&gt;</th><th scope=col>&lt;dbl&gt;</th></tr>\n",
              "</thead>\n",
              "<tbody>\n",
              "\t<tr><td>송태섭</td><td>남자</td><td>21</td><td>3</td><td>무</td><td>B </td><td>179.1</td><td>63.9</td></tr>\n",
              "\t<tr><td>김소혜</td><td>여자</td><td>23</td><td>3</td><td>무</td><td>O </td><td>176.1</td><td>53.5</td></tr>\n",
              "\t<tr><td>채치수</td><td>남자</td><td>23</td><td>3</td><td>무</td><td>AB</td><td>181.8</td><td>85.9</td></tr>\n",
              "</tbody>\n",
              "</table>\n"
            ],
            "text/markdown": "\nA data.frame: 3 × 8\n\n| Name &lt;chr&gt; | Gender &lt;chr&gt; | Age &lt;int&gt; | Grade &lt;int&gt; | Picture &lt;chr&gt; | BloodType &lt;chr&gt; | Height &lt;dbl&gt; | Weight &lt;dbl&gt; |\n|---|---|---|---|---|---|---|---|\n| 송태섭 | 남자 | 21 | 3 | 무 | B  | 179.1 | 63.9 |\n| 김소혜 | 여자 | 23 | 3 | 무 | O  | 176.1 | 53.5 |\n| 채치수 | 남자 | 23 | 3 | 무 | AB | 181.8 | 85.9 |\n\n",
            "text/latex": "A data.frame: 3 × 8\n\\begin{tabular}{llllllll}\n Name & Gender & Age & Grade & Picture & BloodType & Height & Weight\\\\\n <chr> & <chr> & <int> & <int> & <chr> & <chr> & <dbl> & <dbl>\\\\\n\\hline\n\t 송태섭 & 남자 & 21 & 3 & 무 & B  & 179.1 & 63.9\\\\\n\t 김소혜 & 여자 & 23 & 3 & 무 & O  & 176.1 & 53.5\\\\\n\t 채치수 & 남자 & 23 & 3 & 무 & AB & 181.8 & 85.9\\\\\n\\end{tabular}\n",
            "text/plain": [
              "  Name   Gender Age Grade Picture BloodType Height Weight\n",
              "1 송태섭 남자   21  3     무      B         179.1  63.9  \n",
              "2 김소혜 여자   23  3     무      O         176.1  53.5  \n",
              "3 채치수 남자   23  3     무      AB        181.8  85.9  "
            ]
          },
          "metadata": {}
        }
      ]
    },
    {
      "cell_type": "markdown",
      "source": [
        "#### (2) \"OR\" 연산"
      ],
      "metadata": {
        "id": "OBuU7bzQOVQQ"
      }
    },
    {
      "cell_type": "code",
      "source": [
        "sqldf(\"SELECT * FROM TB WHERE Height > 175 OR Grade = 3\")"
      ],
      "metadata": {
        "colab": {
          "base_uri": "https://localhost:8080/",
          "height": 349
        },
        "id": "TwIju6gROUfv",
        "outputId": "94360b04-3579-49ca-8623-5eaa0809ea3a"
      },
      "execution_count": 18,
      "outputs": [
        {
          "output_type": "display_data",
          "data": {
            "text/html": [
              "<table class=\"dataframe\">\n",
              "<caption>A data.frame: 8 × 8</caption>\n",
              "<thead>\n",
              "\t<tr><th scope=col>Name</th><th scope=col>Gender</th><th scope=col>Age</th><th scope=col>Grade</th><th scope=col>Picture</th><th scope=col>BloodType</th><th scope=col>Height</th><th scope=col>Weight</th></tr>\n",
              "\t<tr><th scope=col>&lt;chr&gt;</th><th scope=col>&lt;chr&gt;</th><th scope=col>&lt;int&gt;</th><th scope=col>&lt;int&gt;</th><th scope=col>&lt;chr&gt;</th><th scope=col>&lt;chr&gt;</th><th scope=col>&lt;dbl&gt;</th><th scope=col>&lt;dbl&gt;</th></tr>\n",
              "</thead>\n",
              "<tbody>\n",
              "\t<tr><td>송태섭</td><td>남자</td><td>21</td><td>3</td><td>무</td><td>B </td><td>179.1</td><td>63.9</td></tr>\n",
              "\t<tr><td>최유정</td><td>여자</td><td>23</td><td>1</td><td>유</td><td>A </td><td>177.1</td><td>54.9</td></tr>\n",
              "\t<tr><td>김소혜</td><td>여자</td><td>23</td><td>3</td><td>무</td><td>O </td><td>176.1</td><td>53.5</td></tr>\n",
              "\t<tr><td>서태웅</td><td>남자</td><td>24</td><td>4</td><td>무</td><td>B </td><td>176.1</td><td>79.8</td></tr>\n",
              "\t<tr><td>정대만</td><td>남자</td><td>24</td><td>2</td><td>유</td><td>B </td><td>175.2</td><td>61.7</td></tr>\n",
              "\t<tr><td>강백호</td><td>남자</td><td>23</td><td>3</td><td>무</td><td>O </td><td>165.5</td><td>68.5</td></tr>\n",
              "\t<tr><td>채치수</td><td>남자</td><td>23</td><td>3</td><td>무</td><td>AB</td><td>181.8</td><td>85.9</td></tr>\n",
              "\t<tr><td>윤대협</td><td>남자</td><td>22</td><td>2</td><td>유</td><td>AB</td><td>180.3</td><td>76.2</td></tr>\n",
              "</tbody>\n",
              "</table>\n"
            ],
            "text/markdown": "\nA data.frame: 8 × 8\n\n| Name &lt;chr&gt; | Gender &lt;chr&gt; | Age &lt;int&gt; | Grade &lt;int&gt; | Picture &lt;chr&gt; | BloodType &lt;chr&gt; | Height &lt;dbl&gt; | Weight &lt;dbl&gt; |\n|---|---|---|---|---|---|---|---|\n| 송태섭 | 남자 | 21 | 3 | 무 | B  | 179.1 | 63.9 |\n| 최유정 | 여자 | 23 | 1 | 유 | A  | 177.1 | 54.9 |\n| 김소혜 | 여자 | 23 | 3 | 무 | O  | 176.1 | 53.5 |\n| 서태웅 | 남자 | 24 | 4 | 무 | B  | 176.1 | 79.8 |\n| 정대만 | 남자 | 24 | 2 | 유 | B  | 175.2 | 61.7 |\n| 강백호 | 남자 | 23 | 3 | 무 | O  | 165.5 | 68.5 |\n| 채치수 | 남자 | 23 | 3 | 무 | AB | 181.8 | 85.9 |\n| 윤대협 | 남자 | 22 | 2 | 유 | AB | 180.3 | 76.2 |\n\n",
            "text/latex": "A data.frame: 8 × 8\n\\begin{tabular}{llllllll}\n Name & Gender & Age & Grade & Picture & BloodType & Height & Weight\\\\\n <chr> & <chr> & <int> & <int> & <chr> & <chr> & <dbl> & <dbl>\\\\\n\\hline\n\t 송태섭 & 남자 & 21 & 3 & 무 & B  & 179.1 & 63.9\\\\\n\t 최유정 & 여자 & 23 & 1 & 유 & A  & 177.1 & 54.9\\\\\n\t 김소혜 & 여자 & 23 & 3 & 무 & O  & 176.1 & 53.5\\\\\n\t 서태웅 & 남자 & 24 & 4 & 무 & B  & 176.1 & 79.8\\\\\n\t 정대만 & 남자 & 24 & 2 & 유 & B  & 175.2 & 61.7\\\\\n\t 강백호 & 남자 & 23 & 3 & 무 & O  & 165.5 & 68.5\\\\\n\t 채치수 & 남자 & 23 & 3 & 무 & AB & 181.8 & 85.9\\\\\n\t 윤대협 & 남자 & 22 & 2 & 유 & AB & 180.3 & 76.2\\\\\n\\end{tabular}\n",
            "text/plain": [
              "  Name   Gender Age Grade Picture BloodType Height Weight\n",
              "1 송태섭 남자   21  3     무      B         179.1  63.9  \n",
              "2 최유정 여자   23  1     유      A         177.1  54.9  \n",
              "3 김소혜 여자   23  3     무      O         176.1  53.5  \n",
              "4 서태웅 남자   24  4     무      B         176.1  79.8  \n",
              "5 정대만 남자   24  2     유      B         175.2  61.7  \n",
              "6 강백호 남자   23  3     무      O         165.5  68.5  \n",
              "7 채치수 남자   23  3     무      AB        181.8  85.9  \n",
              "8 윤대협 남자   22  2     유      AB        180.3  76.2  "
            ]
          },
          "metadata": {}
        }
      ]
    },
    {
      "cell_type": "code",
      "source": [
        "sqldf(\"SELECT * FROM TB WHERE Height > 175 OR Age = 24\")"
      ],
      "metadata": {
        "colab": {
          "base_uri": "https://localhost:8080/",
          "height": 349
        },
        "id": "jxmLXsj-OZvz",
        "outputId": "456acf5b-b942-4408-fb9e-ae4788e3df18"
      },
      "execution_count": 19,
      "outputs": [
        {
          "output_type": "display_data",
          "data": {
            "text/html": [
              "<table class=\"dataframe\">\n",
              "<caption>A data.frame: 8 × 8</caption>\n",
              "<thead>\n",
              "\t<tr><th scope=col>Name</th><th scope=col>Gender</th><th scope=col>Age</th><th scope=col>Grade</th><th scope=col>Picture</th><th scope=col>BloodType</th><th scope=col>Height</th><th scope=col>Weight</th></tr>\n",
              "\t<tr><th scope=col>&lt;chr&gt;</th><th scope=col>&lt;chr&gt;</th><th scope=col>&lt;int&gt;</th><th scope=col>&lt;int&gt;</th><th scope=col>&lt;chr&gt;</th><th scope=col>&lt;chr&gt;</th><th scope=col>&lt;dbl&gt;</th><th scope=col>&lt;dbl&gt;</th></tr>\n",
              "</thead>\n",
              "<tbody>\n",
              "\t<tr><td>송태섭</td><td>남자</td><td>21</td><td>3</td><td>무</td><td>B </td><td>179.1</td><td>63.9</td></tr>\n",
              "\t<tr><td>최유정</td><td>여자</td><td>23</td><td>1</td><td>유</td><td>A </td><td>177.1</td><td>54.9</td></tr>\n",
              "\t<tr><td>김소혜</td><td>여자</td><td>23</td><td>3</td><td>무</td><td>O </td><td>176.1</td><td>53.5</td></tr>\n",
              "\t<tr><td>서태웅</td><td>남자</td><td>24</td><td>4</td><td>무</td><td>B </td><td>176.1</td><td>79.8</td></tr>\n",
              "\t<tr><td>정대만</td><td>남자</td><td>24</td><td>2</td><td>유</td><td>B </td><td>175.2</td><td>61.7</td></tr>\n",
              "\t<tr><td>권준호</td><td>남자</td><td>24</td><td>4</td><td>유</td><td>O </td><td>166.9</td><td>61.7</td></tr>\n",
              "\t<tr><td>채치수</td><td>남자</td><td>23</td><td>3</td><td>무</td><td>AB</td><td>181.8</td><td>85.9</td></tr>\n",
              "\t<tr><td>윤대협</td><td>남자</td><td>22</td><td>2</td><td>유</td><td>AB</td><td>180.3</td><td>76.2</td></tr>\n",
              "</tbody>\n",
              "</table>\n"
            ],
            "text/markdown": "\nA data.frame: 8 × 8\n\n| Name &lt;chr&gt; | Gender &lt;chr&gt; | Age &lt;int&gt; | Grade &lt;int&gt; | Picture &lt;chr&gt; | BloodType &lt;chr&gt; | Height &lt;dbl&gt; | Weight &lt;dbl&gt; |\n|---|---|---|---|---|---|---|---|\n| 송태섭 | 남자 | 21 | 3 | 무 | B  | 179.1 | 63.9 |\n| 최유정 | 여자 | 23 | 1 | 유 | A  | 177.1 | 54.9 |\n| 김소혜 | 여자 | 23 | 3 | 무 | O  | 176.1 | 53.5 |\n| 서태웅 | 남자 | 24 | 4 | 무 | B  | 176.1 | 79.8 |\n| 정대만 | 남자 | 24 | 2 | 유 | B  | 175.2 | 61.7 |\n| 권준호 | 남자 | 24 | 4 | 유 | O  | 166.9 | 61.7 |\n| 채치수 | 남자 | 23 | 3 | 무 | AB | 181.8 | 85.9 |\n| 윤대협 | 남자 | 22 | 2 | 유 | AB | 180.3 | 76.2 |\n\n",
            "text/latex": "A data.frame: 8 × 8\n\\begin{tabular}{llllllll}\n Name & Gender & Age & Grade & Picture & BloodType & Height & Weight\\\\\n <chr> & <chr> & <int> & <int> & <chr> & <chr> & <dbl> & <dbl>\\\\\n\\hline\n\t 송태섭 & 남자 & 21 & 3 & 무 & B  & 179.1 & 63.9\\\\\n\t 최유정 & 여자 & 23 & 1 & 유 & A  & 177.1 & 54.9\\\\\n\t 김소혜 & 여자 & 23 & 3 & 무 & O  & 176.1 & 53.5\\\\\n\t 서태웅 & 남자 & 24 & 4 & 무 & B  & 176.1 & 79.8\\\\\n\t 정대만 & 남자 & 24 & 2 & 유 & B  & 175.2 & 61.7\\\\\n\t 권준호 & 남자 & 24 & 4 & 유 & O  & 166.9 & 61.7\\\\\n\t 채치수 & 남자 & 23 & 3 & 무 & AB & 181.8 & 85.9\\\\\n\t 윤대협 & 남자 & 22 & 2 & 유 & AB & 180.3 & 76.2\\\\\n\\end{tabular}\n",
            "text/plain": [
              "  Name   Gender Age Grade Picture BloodType Height Weight\n",
              "1 송태섭 남자   21  3     무      B         179.1  63.9  \n",
              "2 최유정 여자   23  1     유      A         177.1  54.9  \n",
              "3 김소혜 여자   23  3     무      O         176.1  53.5  \n",
              "4 서태웅 남자   24  4     무      B         176.1  79.8  \n",
              "5 정대만 남자   24  2     유      B         175.2  61.7  \n",
              "6 권준호 남자   24  4     유      O         166.9  61.7  \n",
              "7 채치수 남자   23  3     무      AB        181.8  85.9  \n",
              "8 윤대협 남자   22  2     유      AB        180.3  76.2  "
            ]
          },
          "metadata": {}
        }
      ]
    },
    {
      "cell_type": "markdown",
      "source": [
        "### 3) 명목형 연산"
      ],
      "metadata": {
        "id": "X-B0s_96OfPR"
      }
    },
    {
      "cell_type": "code",
      "source": [
        "sqldf(\"SELECT * FROM TB WHERE Name = '강백호'\")"
      ],
      "metadata": {
        "colab": {
          "base_uri": "https://localhost:8080/",
          "height": 129
        },
        "id": "LdJ3OS_OOeb1",
        "outputId": "6a319106-933b-40bc-dfed-83ac7ae769a0"
      },
      "execution_count": 20,
      "outputs": [
        {
          "output_type": "display_data",
          "data": {
            "text/html": [
              "<table class=\"dataframe\">\n",
              "<caption>A data.frame: 1 × 8</caption>\n",
              "<thead>\n",
              "\t<tr><th scope=col>Name</th><th scope=col>Gender</th><th scope=col>Age</th><th scope=col>Grade</th><th scope=col>Picture</th><th scope=col>BloodType</th><th scope=col>Height</th><th scope=col>Weight</th></tr>\n",
              "\t<tr><th scope=col>&lt;chr&gt;</th><th scope=col>&lt;chr&gt;</th><th scope=col>&lt;int&gt;</th><th scope=col>&lt;int&gt;</th><th scope=col>&lt;chr&gt;</th><th scope=col>&lt;chr&gt;</th><th scope=col>&lt;dbl&gt;</th><th scope=col>&lt;dbl&gt;</th></tr>\n",
              "</thead>\n",
              "<tbody>\n",
              "\t<tr><td>강백호</td><td>남자</td><td>23</td><td>3</td><td>무</td><td>O</td><td>165.5</td><td>68.5</td></tr>\n",
              "</tbody>\n",
              "</table>\n"
            ],
            "text/markdown": "\nA data.frame: 1 × 8\n\n| Name &lt;chr&gt; | Gender &lt;chr&gt; | Age &lt;int&gt; | Grade &lt;int&gt; | Picture &lt;chr&gt; | BloodType &lt;chr&gt; | Height &lt;dbl&gt; | Weight &lt;dbl&gt; |\n|---|---|---|---|---|---|---|---|\n| 강백호 | 남자 | 23 | 3 | 무 | O | 165.5 | 68.5 |\n\n",
            "text/latex": "A data.frame: 1 × 8\n\\begin{tabular}{llllllll}\n Name & Gender & Age & Grade & Picture & BloodType & Height & Weight\\\\\n <chr> & <chr> & <int> & <int> & <chr> & <chr> & <dbl> & <dbl>\\\\\n\\hline\n\t 강백호 & 남자 & 23 & 3 & 무 & O & 165.5 & 68.5\\\\\n\\end{tabular}\n",
            "text/plain": [
              "  Name   Gender Age Grade Picture BloodType Height Weight\n",
              "1 강백호 남자   23  3     무      O         165.5  68.5  "
            ]
          },
          "metadata": {}
        }
      ]
    },
    {
      "cell_type": "code",
      "source": [
        "sqldf(\"SELECT * FROM TB WHERE BloodType = 'B'\")"
      ],
      "metadata": {
        "colab": {
          "base_uri": "https://localhost:8080/",
          "height": 255
        },
        "id": "MCV-f2HrOjjj",
        "outputId": "4ae8581b-75ed-4ef6-80f0-e30b6f698253"
      },
      "execution_count": 21,
      "outputs": [
        {
          "output_type": "display_data",
          "data": {
            "text/html": [
              "<table class=\"dataframe\">\n",
              "<caption>A data.frame: 5 × 8</caption>\n",
              "<thead>\n",
              "\t<tr><th scope=col>Name</th><th scope=col>Gender</th><th scope=col>Age</th><th scope=col>Grade</th><th scope=col>Picture</th><th scope=col>BloodType</th><th scope=col>Height</th><th scope=col>Weight</th></tr>\n",
              "\t<tr><th scope=col>&lt;chr&gt;</th><th scope=col>&lt;chr&gt;</th><th scope=col>&lt;int&gt;</th><th scope=col>&lt;int&gt;</th><th scope=col>&lt;chr&gt;</th><th scope=col>&lt;chr&gt;</th><th scope=col>&lt;dbl&gt;</th><th scope=col>&lt;dbl&gt;</th></tr>\n",
              "</thead>\n",
              "<tbody>\n",
              "\t<tr><td>송태섭</td><td>남자</td><td>21</td><td>3</td><td>무</td><td>B</td><td>179.1</td><td>63.9</td></tr>\n",
              "\t<tr><td>서태웅</td><td>남자</td><td>24</td><td>4</td><td>무</td><td>B</td><td>176.1</td><td>79.8</td></tr>\n",
              "\t<tr><td>정대만</td><td>남자</td><td>24</td><td>2</td><td>유</td><td>B</td><td>175.2</td><td>61.7</td></tr>\n",
              "\t<tr><td>이정환</td><td>남자</td><td>22</td><td>4</td><td>무</td><td>B</td><td>169.1</td><td>69.8</td></tr>\n",
              "\t<tr><td>정채연</td><td>여자</td><td>22</td><td>2</td><td>무</td><td>B</td><td>157.8</td><td>44.9</td></tr>\n",
              "</tbody>\n",
              "</table>\n"
            ],
            "text/markdown": "\nA data.frame: 5 × 8\n\n| Name &lt;chr&gt; | Gender &lt;chr&gt; | Age &lt;int&gt; | Grade &lt;int&gt; | Picture &lt;chr&gt; | BloodType &lt;chr&gt; | Height &lt;dbl&gt; | Weight &lt;dbl&gt; |\n|---|---|---|---|---|---|---|---|\n| 송태섭 | 남자 | 21 | 3 | 무 | B | 179.1 | 63.9 |\n| 서태웅 | 남자 | 24 | 4 | 무 | B | 176.1 | 79.8 |\n| 정대만 | 남자 | 24 | 2 | 유 | B | 175.2 | 61.7 |\n| 이정환 | 남자 | 22 | 4 | 무 | B | 169.1 | 69.8 |\n| 정채연 | 여자 | 22 | 2 | 무 | B | 157.8 | 44.9 |\n\n",
            "text/latex": "A data.frame: 5 × 8\n\\begin{tabular}{llllllll}\n Name & Gender & Age & Grade & Picture & BloodType & Height & Weight\\\\\n <chr> & <chr> & <int> & <int> & <chr> & <chr> & <dbl> & <dbl>\\\\\n\\hline\n\t 송태섭 & 남자 & 21 & 3 & 무 & B & 179.1 & 63.9\\\\\n\t 서태웅 & 남자 & 24 & 4 & 무 & B & 176.1 & 79.8\\\\\n\t 정대만 & 남자 & 24 & 2 & 유 & B & 175.2 & 61.7\\\\\n\t 이정환 & 남자 & 22 & 4 & 무 & B & 169.1 & 69.8\\\\\n\t 정채연 & 여자 & 22 & 2 & 무 & B & 157.8 & 44.9\\\\\n\\end{tabular}\n",
            "text/plain": [
              "  Name   Gender Age Grade Picture BloodType Height Weight\n",
              "1 송태섭 남자   21  3     무      B         179.1  63.9  \n",
              "2 서태웅 남자   24  4     무      B         176.1  79.8  \n",
              "3 정대만 남자   24  2     유      B         175.2  61.7  \n",
              "4 이정환 남자   22  4     무      B         169.1  69.8  \n",
              "5 정채연 여자   22  2     무      B         157.8  44.9  "
            ]
          },
          "metadata": {}
        }
      ]
    },
    {
      "cell_type": "code",
      "source": [
        "sqldf(\"SELECT * FROM TB WHERE Height > 175 AND BloodType = 'B'\")"
      ],
      "metadata": {
        "colab": {
          "base_uri": "https://localhost:8080/",
          "height": 192
        },
        "id": "SkQMfdRFOpBI",
        "outputId": "f42b61a5-2e75-4e00-9e62-1b08c28a3b3b"
      },
      "execution_count": 22,
      "outputs": [
        {
          "output_type": "display_data",
          "data": {
            "text/html": [
              "<table class=\"dataframe\">\n",
              "<caption>A data.frame: 3 × 8</caption>\n",
              "<thead>\n",
              "\t<tr><th scope=col>Name</th><th scope=col>Gender</th><th scope=col>Age</th><th scope=col>Grade</th><th scope=col>Picture</th><th scope=col>BloodType</th><th scope=col>Height</th><th scope=col>Weight</th></tr>\n",
              "\t<tr><th scope=col>&lt;chr&gt;</th><th scope=col>&lt;chr&gt;</th><th scope=col>&lt;int&gt;</th><th scope=col>&lt;int&gt;</th><th scope=col>&lt;chr&gt;</th><th scope=col>&lt;chr&gt;</th><th scope=col>&lt;dbl&gt;</th><th scope=col>&lt;dbl&gt;</th></tr>\n",
              "</thead>\n",
              "<tbody>\n",
              "\t<tr><td>송태섭</td><td>남자</td><td>21</td><td>3</td><td>무</td><td>B</td><td>179.1</td><td>63.9</td></tr>\n",
              "\t<tr><td>서태웅</td><td>남자</td><td>24</td><td>4</td><td>무</td><td>B</td><td>176.1</td><td>79.8</td></tr>\n",
              "\t<tr><td>정대만</td><td>남자</td><td>24</td><td>2</td><td>유</td><td>B</td><td>175.2</td><td>61.7</td></tr>\n",
              "</tbody>\n",
              "</table>\n"
            ],
            "text/markdown": "\nA data.frame: 3 × 8\n\n| Name &lt;chr&gt; | Gender &lt;chr&gt; | Age &lt;int&gt; | Grade &lt;int&gt; | Picture &lt;chr&gt; | BloodType &lt;chr&gt; | Height &lt;dbl&gt; | Weight &lt;dbl&gt; |\n|---|---|---|---|---|---|---|---|\n| 송태섭 | 남자 | 21 | 3 | 무 | B | 179.1 | 63.9 |\n| 서태웅 | 남자 | 24 | 4 | 무 | B | 176.1 | 79.8 |\n| 정대만 | 남자 | 24 | 2 | 유 | B | 175.2 | 61.7 |\n\n",
            "text/latex": "A data.frame: 3 × 8\n\\begin{tabular}{llllllll}\n Name & Gender & Age & Grade & Picture & BloodType & Height & Weight\\\\\n <chr> & <chr> & <int> & <int> & <chr> & <chr> & <dbl> & <dbl>\\\\\n\\hline\n\t 송태섭 & 남자 & 21 & 3 & 무 & B & 179.1 & 63.9\\\\\n\t 서태웅 & 남자 & 24 & 4 & 무 & B & 176.1 & 79.8\\\\\n\t 정대만 & 남자 & 24 & 2 & 유 & B & 175.2 & 61.7\\\\\n\\end{tabular}\n",
            "text/plain": [
              "  Name   Gender Age Grade Picture BloodType Height Weight\n",
              "1 송태섭 남자   21  3     무      B         179.1  63.9  \n",
              "2 서태웅 남자   24  4     무      B         176.1  79.8  \n",
              "3 정대만 남자   24  2     유      B         175.2  61.7  "
            ]
          },
          "metadata": {}
        }
      ]
    },
    {
      "cell_type": "markdown",
      "source": [
        "### 4) \"IN\" 연산자"
      ],
      "metadata": {
        "id": "EQRnZD3dOvbH"
      }
    },
    {
      "cell_type": "code",
      "source": [
        "sqldf(\"SELECT * FROM TB WHERE Grade IN ('2', '4')\")"
      ],
      "metadata": {
        "colab": {
          "base_uri": "https://localhost:8080/",
          "height": 349
        },
        "id": "OJWalIzROt7U",
        "outputId": "d7b09cf7-55f7-4e50-8e59-6d895381983e"
      },
      "execution_count": 23,
      "outputs": [
        {
          "output_type": "display_data",
          "data": {
            "text/html": [
              "<table class=\"dataframe\">\n",
              "<caption>A data.frame: 8 × 8</caption>\n",
              "<thead>\n",
              "\t<tr><th scope=col>Name</th><th scope=col>Gender</th><th scope=col>Age</th><th scope=col>Grade</th><th scope=col>Picture</th><th scope=col>BloodType</th><th scope=col>Height</th><th scope=col>Weight</th></tr>\n",
              "\t<tr><th scope=col>&lt;chr&gt;</th><th scope=col>&lt;chr&gt;</th><th scope=col>&lt;int&gt;</th><th scope=col>&lt;int&gt;</th><th scope=col>&lt;chr&gt;</th><th scope=col>&lt;chr&gt;</th><th scope=col>&lt;dbl&gt;</th><th scope=col>&lt;dbl&gt;</th></tr>\n",
              "</thead>\n",
              "<tbody>\n",
              "\t<tr><td>서태웅</td><td>남자</td><td>24</td><td>4</td><td>무</td><td>B </td><td>176.1</td><td>79.8</td></tr>\n",
              "\t<tr><td>정대만</td><td>남자</td><td>24</td><td>2</td><td>유</td><td>B </td><td>175.2</td><td>61.7</td></tr>\n",
              "\t<tr><td>이정환</td><td>남자</td><td>22</td><td>4</td><td>무</td><td>B </td><td>169.1</td><td>69.8</td></tr>\n",
              "\t<tr><td>채소연</td><td>여자</td><td>22</td><td>2</td><td>유</td><td>AB</td><td>169.9</td><td>52.7</td></tr>\n",
              "\t<tr><td>전소미</td><td>여자</td><td>22</td><td>2</td><td>유</td><td>O </td><td>161.9</td><td>52.3</td></tr>\n",
              "\t<tr><td>정채연</td><td>여자</td><td>22</td><td>2</td><td>무</td><td>B </td><td>157.8</td><td>44.9</td></tr>\n",
              "\t<tr><td>권준호</td><td>남자</td><td>24</td><td>4</td><td>유</td><td>O </td><td>166.9</td><td>61.7</td></tr>\n",
              "\t<tr><td>윤대협</td><td>남자</td><td>22</td><td>2</td><td>유</td><td>AB</td><td>180.3</td><td>76.2</td></tr>\n",
              "</tbody>\n",
              "</table>\n"
            ],
            "text/markdown": "\nA data.frame: 8 × 8\n\n| Name &lt;chr&gt; | Gender &lt;chr&gt; | Age &lt;int&gt; | Grade &lt;int&gt; | Picture &lt;chr&gt; | BloodType &lt;chr&gt; | Height &lt;dbl&gt; | Weight &lt;dbl&gt; |\n|---|---|---|---|---|---|---|---|\n| 서태웅 | 남자 | 24 | 4 | 무 | B  | 176.1 | 79.8 |\n| 정대만 | 남자 | 24 | 2 | 유 | B  | 175.2 | 61.7 |\n| 이정환 | 남자 | 22 | 4 | 무 | B  | 169.1 | 69.8 |\n| 채소연 | 여자 | 22 | 2 | 유 | AB | 169.9 | 52.7 |\n| 전소미 | 여자 | 22 | 2 | 유 | O  | 161.9 | 52.3 |\n| 정채연 | 여자 | 22 | 2 | 무 | B  | 157.8 | 44.9 |\n| 권준호 | 남자 | 24 | 4 | 유 | O  | 166.9 | 61.7 |\n| 윤대협 | 남자 | 22 | 2 | 유 | AB | 180.3 | 76.2 |\n\n",
            "text/latex": "A data.frame: 8 × 8\n\\begin{tabular}{llllllll}\n Name & Gender & Age & Grade & Picture & BloodType & Height & Weight\\\\\n <chr> & <chr> & <int> & <int> & <chr> & <chr> & <dbl> & <dbl>\\\\\n\\hline\n\t 서태웅 & 남자 & 24 & 4 & 무 & B  & 176.1 & 79.8\\\\\n\t 정대만 & 남자 & 24 & 2 & 유 & B  & 175.2 & 61.7\\\\\n\t 이정환 & 남자 & 22 & 4 & 무 & B  & 169.1 & 69.8\\\\\n\t 채소연 & 여자 & 22 & 2 & 유 & AB & 169.9 & 52.7\\\\\n\t 전소미 & 여자 & 22 & 2 & 유 & O  & 161.9 & 52.3\\\\\n\t 정채연 & 여자 & 22 & 2 & 무 & B  & 157.8 & 44.9\\\\\n\t 권준호 & 남자 & 24 & 4 & 유 & O  & 166.9 & 61.7\\\\\n\t 윤대협 & 남자 & 22 & 2 & 유 & AB & 180.3 & 76.2\\\\\n\\end{tabular}\n",
            "text/plain": [
              "  Name   Gender Age Grade Picture BloodType Height Weight\n",
              "1 서태웅 남자   24  4     무      B         176.1  79.8  \n",
              "2 정대만 남자   24  2     유      B         175.2  61.7  \n",
              "3 이정환 남자   22  4     무      B         169.1  69.8  \n",
              "4 채소연 여자   22  2     유      AB        169.9  52.7  \n",
              "5 전소미 여자   22  2     유      O         161.9  52.3  \n",
              "6 정채연 여자   22  2     무      B         157.8  44.9  \n",
              "7 권준호 남자   24  4     유      O         166.9  61.7  \n",
              "8 윤대협 남자   22  2     유      AB        180.3  76.2  "
            ]
          },
          "metadata": {}
        }
      ]
    },
    {
      "cell_type": "code",
      "source": [
        "sqldf(\"SELECT * FROM TB WHERE BloodType IN ('A', 'B', 'O')\")"
      ],
      "metadata": {
        "colab": {
          "base_uri": "https://localhost:8080/",
          "height": 537
        },
        "id": "bDFjihJXOzlU",
        "outputId": "ad943c45-56a5-4bb5-91b9-6b5a4730b62b"
      },
      "execution_count": 24,
      "outputs": [
        {
          "output_type": "display_data",
          "data": {
            "text/html": [
              "<table class=\"dataframe\">\n",
              "<caption>A data.frame: 14 × 8</caption>\n",
              "<thead>\n",
              "\t<tr><th scope=col>Name</th><th scope=col>Gender</th><th scope=col>Age</th><th scope=col>Grade</th><th scope=col>Picture</th><th scope=col>BloodType</th><th scope=col>Height</th><th scope=col>Weight</th></tr>\n",
              "\t<tr><th scope=col>&lt;chr&gt;</th><th scope=col>&lt;chr&gt;</th><th scope=col>&lt;int&gt;</th><th scope=col>&lt;int&gt;</th><th scope=col>&lt;chr&gt;</th><th scope=col>&lt;chr&gt;</th><th scope=col>&lt;dbl&gt;</th><th scope=col>&lt;dbl&gt;</th></tr>\n",
              "</thead>\n",
              "<tbody>\n",
              "\t<tr><td>송태섭</td><td>남자</td><td>21</td><td>3</td><td>무</td><td>B</td><td>179.1</td><td>63.9</td></tr>\n",
              "\t<tr><td>최유정</td><td>여자</td><td>23</td><td>1</td><td>유</td><td>A</td><td>177.1</td><td>54.9</td></tr>\n",
              "\t<tr><td>이한나</td><td>여자</td><td>20</td><td>1</td><td>무</td><td>A</td><td>167.9</td><td>50.2</td></tr>\n",
              "\t<tr><td>김소혜</td><td>여자</td><td>23</td><td>3</td><td>무</td><td>O</td><td>176.1</td><td>53.5</td></tr>\n",
              "\t<tr><td>서태웅</td><td>남자</td><td>24</td><td>4</td><td>무</td><td>B</td><td>176.1</td><td>79.8</td></tr>\n",
              "\t<tr><td>정대만</td><td>남자</td><td>24</td><td>2</td><td>유</td><td>B</td><td>175.2</td><td>61.7</td></tr>\n",
              "\t<tr><td>이정환</td><td>남자</td><td>22</td><td>4</td><td>무</td><td>B</td><td>169.1</td><td>69.8</td></tr>\n",
              "\t<tr><td>강백호</td><td>남자</td><td>23</td><td>3</td><td>무</td><td>O</td><td>165.5</td><td>68.5</td></tr>\n",
              "\t<tr><td>전소미</td><td>여자</td><td>22</td><td>2</td><td>유</td><td>O</td><td>161.9</td><td>52.3</td></tr>\n",
              "\t<tr><td>변덕규</td><td>남자</td><td>21</td><td>1</td><td>무</td><td>A</td><td>163.2</td><td>55.5</td></tr>\n",
              "\t<tr><td>정채연</td><td>여자</td><td>22</td><td>2</td><td>무</td><td>B</td><td>157.8</td><td>44.9</td></tr>\n",
              "\t<tr><td>권준호</td><td>남자</td><td>24</td><td>4</td><td>유</td><td>O</td><td>166.9</td><td>61.7</td></tr>\n",
              "\t<tr><td>김세정</td><td>여자</td><td>21</td><td>1</td><td>무</td><td>O</td><td>155.5</td><td>44.9</td></tr>\n",
              "\t<tr><td>신준섭</td><td>남자</td><td>23</td><td>1</td><td>무</td><td>A</td><td>168.9</td><td>62.7</td></tr>\n",
              "</tbody>\n",
              "</table>\n"
            ],
            "text/markdown": "\nA data.frame: 14 × 8\n\n| Name &lt;chr&gt; | Gender &lt;chr&gt; | Age &lt;int&gt; | Grade &lt;int&gt; | Picture &lt;chr&gt; | BloodType &lt;chr&gt; | Height &lt;dbl&gt; | Weight &lt;dbl&gt; |\n|---|---|---|---|---|---|---|---|\n| 송태섭 | 남자 | 21 | 3 | 무 | B | 179.1 | 63.9 |\n| 최유정 | 여자 | 23 | 1 | 유 | A | 177.1 | 54.9 |\n| 이한나 | 여자 | 20 | 1 | 무 | A | 167.9 | 50.2 |\n| 김소혜 | 여자 | 23 | 3 | 무 | O | 176.1 | 53.5 |\n| 서태웅 | 남자 | 24 | 4 | 무 | B | 176.1 | 79.8 |\n| 정대만 | 남자 | 24 | 2 | 유 | B | 175.2 | 61.7 |\n| 이정환 | 남자 | 22 | 4 | 무 | B | 169.1 | 69.8 |\n| 강백호 | 남자 | 23 | 3 | 무 | O | 165.5 | 68.5 |\n| 전소미 | 여자 | 22 | 2 | 유 | O | 161.9 | 52.3 |\n| 변덕규 | 남자 | 21 | 1 | 무 | A | 163.2 | 55.5 |\n| 정채연 | 여자 | 22 | 2 | 무 | B | 157.8 | 44.9 |\n| 권준호 | 남자 | 24 | 4 | 유 | O | 166.9 | 61.7 |\n| 김세정 | 여자 | 21 | 1 | 무 | O | 155.5 | 44.9 |\n| 신준섭 | 남자 | 23 | 1 | 무 | A | 168.9 | 62.7 |\n\n",
            "text/latex": "A data.frame: 14 × 8\n\\begin{tabular}{llllllll}\n Name & Gender & Age & Grade & Picture & BloodType & Height & Weight\\\\\n <chr> & <chr> & <int> & <int> & <chr> & <chr> & <dbl> & <dbl>\\\\\n\\hline\n\t 송태섭 & 남자 & 21 & 3 & 무 & B & 179.1 & 63.9\\\\\n\t 최유정 & 여자 & 23 & 1 & 유 & A & 177.1 & 54.9\\\\\n\t 이한나 & 여자 & 20 & 1 & 무 & A & 167.9 & 50.2\\\\\n\t 김소혜 & 여자 & 23 & 3 & 무 & O & 176.1 & 53.5\\\\\n\t 서태웅 & 남자 & 24 & 4 & 무 & B & 176.1 & 79.8\\\\\n\t 정대만 & 남자 & 24 & 2 & 유 & B & 175.2 & 61.7\\\\\n\t 이정환 & 남자 & 22 & 4 & 무 & B & 169.1 & 69.8\\\\\n\t 강백호 & 남자 & 23 & 3 & 무 & O & 165.5 & 68.5\\\\\n\t 전소미 & 여자 & 22 & 2 & 유 & O & 161.9 & 52.3\\\\\n\t 변덕규 & 남자 & 21 & 1 & 무 & A & 163.2 & 55.5\\\\\n\t 정채연 & 여자 & 22 & 2 & 무 & B & 157.8 & 44.9\\\\\n\t 권준호 & 남자 & 24 & 4 & 유 & O & 166.9 & 61.7\\\\\n\t 김세정 & 여자 & 21 & 1 & 무 & O & 155.5 & 44.9\\\\\n\t 신준섭 & 남자 & 23 & 1 & 무 & A & 168.9 & 62.7\\\\\n\\end{tabular}\n",
            "text/plain": [
              "   Name   Gender Age Grade Picture BloodType Height Weight\n",
              "1  송태섭 남자   21  3     무      B         179.1  63.9  \n",
              "2  최유정 여자   23  1     유      A         177.1  54.9  \n",
              "3  이한나 여자   20  1     무      A         167.9  50.2  \n",
              "4  김소혜 여자   23  3     무      O         176.1  53.5  \n",
              "5  서태웅 남자   24  4     무      B         176.1  79.8  \n",
              "6  정대만 남자   24  2     유      B         175.2  61.7  \n",
              "7  이정환 남자   22  4     무      B         169.1  69.8  \n",
              "8  강백호 남자   23  3     무      O         165.5  68.5  \n",
              "9  전소미 여자   22  2     유      O         161.9  52.3  \n",
              "10 변덕규 남자   21  1     무      A         163.2  55.5  \n",
              "11 정채연 여자   22  2     무      B         157.8  44.9  \n",
              "12 권준호 남자   24  4     유      O         166.9  61.7  \n",
              "13 김세정 여자   21  1     무      O         155.5  44.9  \n",
              "14 신준섭 남자   23  1     무      A         168.9  62.7  "
            ]
          },
          "metadata": {}
        }
      ]
    },
    {
      "cell_type": "markdown",
      "source": [
        "### \"LIKE\" 연산자"
      ],
      "metadata": {
        "id": "tTUIrL-OO9Az"
      }
    },
    {
      "cell_type": "markdown",
      "source": [
        "* 특정 문자 시작, 끝, 포함하는 값을 추출"
      ],
      "metadata": {
        "id": "fI77BsLoO_G3"
      }
    },
    {
      "cell_type": "code",
      "source": [
        "sqldf(\"SELECT * FROM TB WHERE Weight LIKE '5%'\")"
      ],
      "metadata": {
        "colab": {
          "base_uri": "https://localhost:8080/",
          "height": 286
        },
        "id": "d8S7bVYwO7xi",
        "outputId": "2caa29ec-dfbb-4d87-f044-d8b2583d09c8"
      },
      "execution_count": 25,
      "outputs": [
        {
          "output_type": "display_data",
          "data": {
            "text/html": [
              "<table class=\"dataframe\">\n",
              "<caption>A data.frame: 6 × 8</caption>\n",
              "<thead>\n",
              "\t<tr><th scope=col>Name</th><th scope=col>Gender</th><th scope=col>Age</th><th scope=col>Grade</th><th scope=col>Picture</th><th scope=col>BloodType</th><th scope=col>Height</th><th scope=col>Weight</th></tr>\n",
              "\t<tr><th scope=col>&lt;chr&gt;</th><th scope=col>&lt;chr&gt;</th><th scope=col>&lt;int&gt;</th><th scope=col>&lt;int&gt;</th><th scope=col>&lt;chr&gt;</th><th scope=col>&lt;chr&gt;</th><th scope=col>&lt;dbl&gt;</th><th scope=col>&lt;dbl&gt;</th></tr>\n",
              "</thead>\n",
              "<tbody>\n",
              "\t<tr><td>최유정</td><td>여자</td><td>23</td><td>1</td><td>유</td><td>A </td><td>177.1</td><td>54.9</td></tr>\n",
              "\t<tr><td>이한나</td><td>여자</td><td>20</td><td>1</td><td>무</td><td>A </td><td>167.9</td><td>50.2</td></tr>\n",
              "\t<tr><td>김소혜</td><td>여자</td><td>23</td><td>3</td><td>무</td><td>O </td><td>176.1</td><td>53.5</td></tr>\n",
              "\t<tr><td>채소연</td><td>여자</td><td>22</td><td>2</td><td>유</td><td>AB</td><td>169.9</td><td>52.7</td></tr>\n",
              "\t<tr><td>전소미</td><td>여자</td><td>22</td><td>2</td><td>유</td><td>O </td><td>161.9</td><td>52.3</td></tr>\n",
              "\t<tr><td>변덕규</td><td>남자</td><td>21</td><td>1</td><td>무</td><td>A </td><td>163.2</td><td>55.5</td></tr>\n",
              "</tbody>\n",
              "</table>\n"
            ],
            "text/markdown": "\nA data.frame: 6 × 8\n\n| Name &lt;chr&gt; | Gender &lt;chr&gt; | Age &lt;int&gt; | Grade &lt;int&gt; | Picture &lt;chr&gt; | BloodType &lt;chr&gt; | Height &lt;dbl&gt; | Weight &lt;dbl&gt; |\n|---|---|---|---|---|---|---|---|\n| 최유정 | 여자 | 23 | 1 | 유 | A  | 177.1 | 54.9 |\n| 이한나 | 여자 | 20 | 1 | 무 | A  | 167.9 | 50.2 |\n| 김소혜 | 여자 | 23 | 3 | 무 | O  | 176.1 | 53.5 |\n| 채소연 | 여자 | 22 | 2 | 유 | AB | 169.9 | 52.7 |\n| 전소미 | 여자 | 22 | 2 | 유 | O  | 161.9 | 52.3 |\n| 변덕규 | 남자 | 21 | 1 | 무 | A  | 163.2 | 55.5 |\n\n",
            "text/latex": "A data.frame: 6 × 8\n\\begin{tabular}{llllllll}\n Name & Gender & Age & Grade & Picture & BloodType & Height & Weight\\\\\n <chr> & <chr> & <int> & <int> & <chr> & <chr> & <dbl> & <dbl>\\\\\n\\hline\n\t 최유정 & 여자 & 23 & 1 & 유 & A  & 177.1 & 54.9\\\\\n\t 이한나 & 여자 & 20 & 1 & 무 & A  & 167.9 & 50.2\\\\\n\t 김소혜 & 여자 & 23 & 3 & 무 & O  & 176.1 & 53.5\\\\\n\t 채소연 & 여자 & 22 & 2 & 유 & AB & 169.9 & 52.7\\\\\n\t 전소미 & 여자 & 22 & 2 & 유 & O  & 161.9 & 52.3\\\\\n\t 변덕규 & 남자 & 21 & 1 & 무 & A  & 163.2 & 55.5\\\\\n\\end{tabular}\n",
            "text/plain": [
              "  Name   Gender Age Grade Picture BloodType Height Weight\n",
              "1 최유정 여자   23  1     유      A         177.1  54.9  \n",
              "2 이한나 여자   20  1     무      A         167.9  50.2  \n",
              "3 김소혜 여자   23  3     무      O         176.1  53.5  \n",
              "4 채소연 여자   22  2     유      AB        169.9  52.7  \n",
              "5 전소미 여자   22  2     유      O         161.9  52.3  \n",
              "6 변덕규 남자   21  1     무      A         163.2  55.5  "
            ]
          },
          "metadata": {}
        }
      ]
    },
    {
      "cell_type": "code",
      "source": [
        "sqldf(\"SELECT * FROM TB WHERE Weight LIKE '7%'\")"
      ],
      "metadata": {
        "colab": {
          "base_uri": "https://localhost:8080/",
          "height": 161
        },
        "id": "7Y3_JfHIPERC",
        "outputId": "efab02a1-d2f5-4f32-a682-1639f7f915b2"
      },
      "execution_count": 26,
      "outputs": [
        {
          "output_type": "display_data",
          "data": {
            "text/html": [
              "<table class=\"dataframe\">\n",
              "<caption>A data.frame: 2 × 8</caption>\n",
              "<thead>\n",
              "\t<tr><th scope=col>Name</th><th scope=col>Gender</th><th scope=col>Age</th><th scope=col>Grade</th><th scope=col>Picture</th><th scope=col>BloodType</th><th scope=col>Height</th><th scope=col>Weight</th></tr>\n",
              "\t<tr><th scope=col>&lt;chr&gt;</th><th scope=col>&lt;chr&gt;</th><th scope=col>&lt;int&gt;</th><th scope=col>&lt;int&gt;</th><th scope=col>&lt;chr&gt;</th><th scope=col>&lt;chr&gt;</th><th scope=col>&lt;dbl&gt;</th><th scope=col>&lt;dbl&gt;</th></tr>\n",
              "</thead>\n",
              "<tbody>\n",
              "\t<tr><td>서태웅</td><td>남자</td><td>24</td><td>4</td><td>무</td><td>B </td><td>176.1</td><td>79.8</td></tr>\n",
              "\t<tr><td>윤대협</td><td>남자</td><td>22</td><td>2</td><td>유</td><td>AB</td><td>180.3</td><td>76.2</td></tr>\n",
              "</tbody>\n",
              "</table>\n"
            ],
            "text/markdown": "\nA data.frame: 2 × 8\n\n| Name &lt;chr&gt; | Gender &lt;chr&gt; | Age &lt;int&gt; | Grade &lt;int&gt; | Picture &lt;chr&gt; | BloodType &lt;chr&gt; | Height &lt;dbl&gt; | Weight &lt;dbl&gt; |\n|---|---|---|---|---|---|---|---|\n| 서태웅 | 남자 | 24 | 4 | 무 | B  | 176.1 | 79.8 |\n| 윤대협 | 남자 | 22 | 2 | 유 | AB | 180.3 | 76.2 |\n\n",
            "text/latex": "A data.frame: 2 × 8\n\\begin{tabular}{llllllll}\n Name & Gender & Age & Grade & Picture & BloodType & Height & Weight\\\\\n <chr> & <chr> & <int> & <int> & <chr> & <chr> & <dbl> & <dbl>\\\\\n\\hline\n\t 서태웅 & 남자 & 24 & 4 & 무 & B  & 176.1 & 79.8\\\\\n\t 윤대협 & 남자 & 22 & 2 & 유 & AB & 180.3 & 76.2\\\\\n\\end{tabular}\n",
            "text/plain": [
              "  Name   Gender Age Grade Picture BloodType Height Weight\n",
              "1 서태웅 남자   24  4     무      B         176.1  79.8  \n",
              "2 윤대협 남자   22  2     유      AB        180.3  76.2  "
            ]
          },
          "metadata": {}
        }
      ]
    },
    {
      "cell_type": "code",
      "source": [
        "sqldf(\"SELECT * FROM TB WHERE Weight LIKE '%9'\")"
      ],
      "metadata": {
        "colab": {
          "base_uri": "https://localhost:8080/",
          "height": 255
        },
        "id": "18PhKM8DPPMg",
        "outputId": "4dea2094-558d-47b7-c9d9-191b75b33794"
      },
      "execution_count": 28,
      "outputs": [
        {
          "output_type": "display_data",
          "data": {
            "text/html": [
              "<table class=\"dataframe\">\n",
              "<caption>A data.frame: 5 × 8</caption>\n",
              "<thead>\n",
              "\t<tr><th scope=col>Name</th><th scope=col>Gender</th><th scope=col>Age</th><th scope=col>Grade</th><th scope=col>Picture</th><th scope=col>BloodType</th><th scope=col>Height</th><th scope=col>Weight</th></tr>\n",
              "\t<tr><th scope=col>&lt;chr&gt;</th><th scope=col>&lt;chr&gt;</th><th scope=col>&lt;int&gt;</th><th scope=col>&lt;int&gt;</th><th scope=col>&lt;chr&gt;</th><th scope=col>&lt;chr&gt;</th><th scope=col>&lt;dbl&gt;</th><th scope=col>&lt;dbl&gt;</th></tr>\n",
              "</thead>\n",
              "<tbody>\n",
              "\t<tr><td>송태섭</td><td>남자</td><td>21</td><td>3</td><td>무</td><td>B </td><td>179.1</td><td>63.9</td></tr>\n",
              "\t<tr><td>최유정</td><td>여자</td><td>23</td><td>1</td><td>유</td><td>A </td><td>177.1</td><td>54.9</td></tr>\n",
              "\t<tr><td>정채연</td><td>여자</td><td>22</td><td>2</td><td>무</td><td>B </td><td>157.8</td><td>44.9</td></tr>\n",
              "\t<tr><td>채치수</td><td>남자</td><td>23</td><td>3</td><td>무</td><td>AB</td><td>181.8</td><td>85.9</td></tr>\n",
              "\t<tr><td>김세정</td><td>여자</td><td>21</td><td>1</td><td>무</td><td>O </td><td>155.5</td><td>44.9</td></tr>\n",
              "</tbody>\n",
              "</table>\n"
            ],
            "text/markdown": "\nA data.frame: 5 × 8\n\n| Name &lt;chr&gt; | Gender &lt;chr&gt; | Age &lt;int&gt; | Grade &lt;int&gt; | Picture &lt;chr&gt; | BloodType &lt;chr&gt; | Height &lt;dbl&gt; | Weight &lt;dbl&gt; |\n|---|---|---|---|---|---|---|---|\n| 송태섭 | 남자 | 21 | 3 | 무 | B  | 179.1 | 63.9 |\n| 최유정 | 여자 | 23 | 1 | 유 | A  | 177.1 | 54.9 |\n| 정채연 | 여자 | 22 | 2 | 무 | B  | 157.8 | 44.9 |\n| 채치수 | 남자 | 23 | 3 | 무 | AB | 181.8 | 85.9 |\n| 김세정 | 여자 | 21 | 1 | 무 | O  | 155.5 | 44.9 |\n\n",
            "text/latex": "A data.frame: 5 × 8\n\\begin{tabular}{llllllll}\n Name & Gender & Age & Grade & Picture & BloodType & Height & Weight\\\\\n <chr> & <chr> & <int> & <int> & <chr> & <chr> & <dbl> & <dbl>\\\\\n\\hline\n\t 송태섭 & 남자 & 21 & 3 & 무 & B  & 179.1 & 63.9\\\\\n\t 최유정 & 여자 & 23 & 1 & 유 & A  & 177.1 & 54.9\\\\\n\t 정채연 & 여자 & 22 & 2 & 무 & B  & 157.8 & 44.9\\\\\n\t 채치수 & 남자 & 23 & 3 & 무 & AB & 181.8 & 85.9\\\\\n\t 김세정 & 여자 & 21 & 1 & 무 & O  & 155.5 & 44.9\\\\\n\\end{tabular}\n",
            "text/plain": [
              "  Name   Gender Age Grade Picture BloodType Height Weight\n",
              "1 송태섭 남자   21  3     무      B         179.1  63.9  \n",
              "2 최유정 여자   23  1     유      A         177.1  54.9  \n",
              "3 정채연 여자   22  2     무      B         157.8  44.9  \n",
              "4 채치수 남자   23  3     무      AB        181.8  85.9  \n",
              "5 김세정 여자   21  1     무      O         155.5  44.9  "
            ]
          },
          "metadata": {}
        }
      ]
    },
    {
      "cell_type": "code",
      "source": [
        "sqldf(\"SELECT * FROM TB WHERE Weight LIKE '%2'\")"
      ],
      "metadata": {
        "colab": {
          "base_uri": "https://localhost:8080/",
          "height": 161
        },
        "id": "jzhpqtMCPSjp",
        "outputId": "665d8c72-6eea-42fe-ce37-c7c8f47f0638"
      },
      "execution_count": 30,
      "outputs": [
        {
          "output_type": "display_data",
          "data": {
            "text/html": [
              "<table class=\"dataframe\">\n",
              "<caption>A data.frame: 2 × 8</caption>\n",
              "<thead>\n",
              "\t<tr><th scope=col>Name</th><th scope=col>Gender</th><th scope=col>Age</th><th scope=col>Grade</th><th scope=col>Picture</th><th scope=col>BloodType</th><th scope=col>Height</th><th scope=col>Weight</th></tr>\n",
              "\t<tr><th scope=col>&lt;chr&gt;</th><th scope=col>&lt;chr&gt;</th><th scope=col>&lt;int&gt;</th><th scope=col>&lt;int&gt;</th><th scope=col>&lt;chr&gt;</th><th scope=col>&lt;chr&gt;</th><th scope=col>&lt;dbl&gt;</th><th scope=col>&lt;dbl&gt;</th></tr>\n",
              "</thead>\n",
              "<tbody>\n",
              "\t<tr><td>이한나</td><td>여자</td><td>20</td><td>1</td><td>무</td><td>A </td><td>167.9</td><td>50.2</td></tr>\n",
              "\t<tr><td>윤대협</td><td>남자</td><td>22</td><td>2</td><td>유</td><td>AB</td><td>180.3</td><td>76.2</td></tr>\n",
              "</tbody>\n",
              "</table>\n"
            ],
            "text/markdown": "\nA data.frame: 2 × 8\n\n| Name &lt;chr&gt; | Gender &lt;chr&gt; | Age &lt;int&gt; | Grade &lt;int&gt; | Picture &lt;chr&gt; | BloodType &lt;chr&gt; | Height &lt;dbl&gt; | Weight &lt;dbl&gt; |\n|---|---|---|---|---|---|---|---|\n| 이한나 | 여자 | 20 | 1 | 무 | A  | 167.9 | 50.2 |\n| 윤대협 | 남자 | 22 | 2 | 유 | AB | 180.3 | 76.2 |\n\n",
            "text/latex": "A data.frame: 2 × 8\n\\begin{tabular}{llllllll}\n Name & Gender & Age & Grade & Picture & BloodType & Height & Weight\\\\\n <chr> & <chr> & <int> & <int> & <chr> & <chr> & <dbl> & <dbl>\\\\\n\\hline\n\t 이한나 & 여자 & 20 & 1 & 무 & A  & 167.9 & 50.2\\\\\n\t 윤대협 & 남자 & 22 & 2 & 유 & AB & 180.3 & 76.2\\\\\n\\end{tabular}\n",
            "text/plain": [
              "  Name   Gender Age Grade Picture BloodType Height Weight\n",
              "1 이한나 여자   20  1     무      A         167.9  50.2  \n",
              "2 윤대협 남자   22  2     유      AB        180.3  76.2  "
            ]
          },
          "metadata": {}
        }
      ]
    },
    {
      "cell_type": "code",
      "source": [
        "sqldf(\"SELECT * FROM TB WHERE Name LIKE '김%'\")"
      ],
      "metadata": {
        "colab": {
          "base_uri": "https://localhost:8080/",
          "height": 161
        },
        "id": "xmGI-jNLPfX5",
        "outputId": "b5b57049-7a31-4fbd-ec13-c57ec0ef80bf"
      },
      "execution_count": 31,
      "outputs": [
        {
          "output_type": "display_data",
          "data": {
            "text/html": [
              "<table class=\"dataframe\">\n",
              "<caption>A data.frame: 2 × 8</caption>\n",
              "<thead>\n",
              "\t<tr><th scope=col>Name</th><th scope=col>Gender</th><th scope=col>Age</th><th scope=col>Grade</th><th scope=col>Picture</th><th scope=col>BloodType</th><th scope=col>Height</th><th scope=col>Weight</th></tr>\n",
              "\t<tr><th scope=col>&lt;chr&gt;</th><th scope=col>&lt;chr&gt;</th><th scope=col>&lt;int&gt;</th><th scope=col>&lt;int&gt;</th><th scope=col>&lt;chr&gt;</th><th scope=col>&lt;chr&gt;</th><th scope=col>&lt;dbl&gt;</th><th scope=col>&lt;dbl&gt;</th></tr>\n",
              "</thead>\n",
              "<tbody>\n",
              "\t<tr><td>김소혜</td><td>여자</td><td>23</td><td>3</td><td>무</td><td>O</td><td>176.1</td><td>53.5</td></tr>\n",
              "\t<tr><td>김세정</td><td>여자</td><td>21</td><td>1</td><td>무</td><td>O</td><td>155.5</td><td>44.9</td></tr>\n",
              "</tbody>\n",
              "</table>\n"
            ],
            "text/markdown": "\nA data.frame: 2 × 8\n\n| Name &lt;chr&gt; | Gender &lt;chr&gt; | Age &lt;int&gt; | Grade &lt;int&gt; | Picture &lt;chr&gt; | BloodType &lt;chr&gt; | Height &lt;dbl&gt; | Weight &lt;dbl&gt; |\n|---|---|---|---|---|---|---|---|\n| 김소혜 | 여자 | 23 | 3 | 무 | O | 176.1 | 53.5 |\n| 김세정 | 여자 | 21 | 1 | 무 | O | 155.5 | 44.9 |\n\n",
            "text/latex": "A data.frame: 2 × 8\n\\begin{tabular}{llllllll}\n Name & Gender & Age & Grade & Picture & BloodType & Height & Weight\\\\\n <chr> & <chr> & <int> & <int> & <chr> & <chr> & <dbl> & <dbl>\\\\\n\\hline\n\t 김소혜 & 여자 & 23 & 3 & 무 & O & 176.1 & 53.5\\\\\n\t 김세정 & 여자 & 21 & 1 & 무 & O & 155.5 & 44.9\\\\\n\\end{tabular}\n",
            "text/plain": [
              "  Name   Gender Age Grade Picture BloodType Height Weight\n",
              "1 김소혜 여자   23  3     무      O         176.1  53.5  \n",
              "2 김세정 여자   21  1     무      O         155.5  44.9  "
            ]
          },
          "metadata": {}
        }
      ]
    },
    {
      "cell_type": "code",
      "source": [
        "sqldf(\"SELECT * FROM TB WHERE Name LIKE '%정'\")"
      ],
      "metadata": {
        "colab": {
          "base_uri": "https://localhost:8080/",
          "height": 161
        },
        "id": "M4gV8CI9PoTa",
        "outputId": "420d6842-6c4b-4236-9856-2974c2ff7e94"
      },
      "execution_count": 32,
      "outputs": [
        {
          "output_type": "display_data",
          "data": {
            "text/html": [
              "<table class=\"dataframe\">\n",
              "<caption>A data.frame: 2 × 8</caption>\n",
              "<thead>\n",
              "\t<tr><th scope=col>Name</th><th scope=col>Gender</th><th scope=col>Age</th><th scope=col>Grade</th><th scope=col>Picture</th><th scope=col>BloodType</th><th scope=col>Height</th><th scope=col>Weight</th></tr>\n",
              "\t<tr><th scope=col>&lt;chr&gt;</th><th scope=col>&lt;chr&gt;</th><th scope=col>&lt;int&gt;</th><th scope=col>&lt;int&gt;</th><th scope=col>&lt;chr&gt;</th><th scope=col>&lt;chr&gt;</th><th scope=col>&lt;dbl&gt;</th><th scope=col>&lt;dbl&gt;</th></tr>\n",
              "</thead>\n",
              "<tbody>\n",
              "\t<tr><td>최유정</td><td>여자</td><td>23</td><td>1</td><td>유</td><td>A</td><td>177.1</td><td>54.9</td></tr>\n",
              "\t<tr><td>김세정</td><td>여자</td><td>21</td><td>1</td><td>무</td><td>O</td><td>155.5</td><td>44.9</td></tr>\n",
              "</tbody>\n",
              "</table>\n"
            ],
            "text/markdown": "\nA data.frame: 2 × 8\n\n| Name &lt;chr&gt; | Gender &lt;chr&gt; | Age &lt;int&gt; | Grade &lt;int&gt; | Picture &lt;chr&gt; | BloodType &lt;chr&gt; | Height &lt;dbl&gt; | Weight &lt;dbl&gt; |\n|---|---|---|---|---|---|---|---|\n| 최유정 | 여자 | 23 | 1 | 유 | A | 177.1 | 54.9 |\n| 김세정 | 여자 | 21 | 1 | 무 | O | 155.5 | 44.9 |\n\n",
            "text/latex": "A data.frame: 2 × 8\n\\begin{tabular}{llllllll}\n Name & Gender & Age & Grade & Picture & BloodType & Height & Weight\\\\\n <chr> & <chr> & <int> & <int> & <chr> & <chr> & <dbl> & <dbl>\\\\\n\\hline\n\t 최유정 & 여자 & 23 & 1 & 유 & A & 177.1 & 54.9\\\\\n\t 김세정 & 여자 & 21 & 1 & 무 & O & 155.5 & 44.9\\\\\n\\end{tabular}\n",
            "text/plain": [
              "  Name   Gender Age Grade Picture BloodType Height Weight\n",
              "1 최유정 여자   23  1     유      A         177.1  54.9  \n",
              "2 김세정 여자   21  1     무      O         155.5  44.9  "
            ]
          },
          "metadata": {}
        }
      ]
    },
    {
      "cell_type": "code",
      "source": [
        "sqldf(\"SELECT * FROM TB WHERE Name LIKE '%소%'\")"
      ],
      "metadata": {
        "colab": {
          "base_uri": "https://localhost:8080/",
          "height": 192
        },
        "id": "VKxme2J_PsKa",
        "outputId": "b22e208d-fbe3-48fd-a94b-fcb9259b4ee8"
      },
      "execution_count": 33,
      "outputs": [
        {
          "output_type": "display_data",
          "data": {
            "text/html": [
              "<table class=\"dataframe\">\n",
              "<caption>A data.frame: 3 × 8</caption>\n",
              "<thead>\n",
              "\t<tr><th scope=col>Name</th><th scope=col>Gender</th><th scope=col>Age</th><th scope=col>Grade</th><th scope=col>Picture</th><th scope=col>BloodType</th><th scope=col>Height</th><th scope=col>Weight</th></tr>\n",
              "\t<tr><th scope=col>&lt;chr&gt;</th><th scope=col>&lt;chr&gt;</th><th scope=col>&lt;int&gt;</th><th scope=col>&lt;int&gt;</th><th scope=col>&lt;chr&gt;</th><th scope=col>&lt;chr&gt;</th><th scope=col>&lt;dbl&gt;</th><th scope=col>&lt;dbl&gt;</th></tr>\n",
              "</thead>\n",
              "<tbody>\n",
              "\t<tr><td>김소혜</td><td>여자</td><td>23</td><td>3</td><td>무</td><td>O </td><td>176.1</td><td>53.5</td></tr>\n",
              "\t<tr><td>채소연</td><td>여자</td><td>22</td><td>2</td><td>유</td><td>AB</td><td>169.9</td><td>52.7</td></tr>\n",
              "\t<tr><td>전소미</td><td>여자</td><td>22</td><td>2</td><td>유</td><td>O </td><td>161.9</td><td>52.3</td></tr>\n",
              "</tbody>\n",
              "</table>\n"
            ],
            "text/markdown": "\nA data.frame: 3 × 8\n\n| Name &lt;chr&gt; | Gender &lt;chr&gt; | Age &lt;int&gt; | Grade &lt;int&gt; | Picture &lt;chr&gt; | BloodType &lt;chr&gt; | Height &lt;dbl&gt; | Weight &lt;dbl&gt; |\n|---|---|---|---|---|---|---|---|\n| 김소혜 | 여자 | 23 | 3 | 무 | O  | 176.1 | 53.5 |\n| 채소연 | 여자 | 22 | 2 | 유 | AB | 169.9 | 52.7 |\n| 전소미 | 여자 | 22 | 2 | 유 | O  | 161.9 | 52.3 |\n\n",
            "text/latex": "A data.frame: 3 × 8\n\\begin{tabular}{llllllll}\n Name & Gender & Age & Grade & Picture & BloodType & Height & Weight\\\\\n <chr> & <chr> & <int> & <int> & <chr> & <chr> & <dbl> & <dbl>\\\\\n\\hline\n\t 김소혜 & 여자 & 23 & 3 & 무 & O  & 176.1 & 53.5\\\\\n\t 채소연 & 여자 & 22 & 2 & 유 & AB & 169.9 & 52.7\\\\\n\t 전소미 & 여자 & 22 & 2 & 유 & O  & 161.9 & 52.3\\\\\n\\end{tabular}\n",
            "text/plain": [
              "  Name   Gender Age Grade Picture BloodType Height Weight\n",
              "1 김소혜 여자   23  3     무      O         176.1  53.5  \n",
              "2 채소연 여자   22  2     유      AB        169.9  52.7  \n",
              "3 전소미 여자   22  2     유      O         161.9  52.3  "
            ]
          },
          "metadata": {}
        }
      ]
    },
    {
      "cell_type": "markdown",
      "source": [
        "### 6) \"GROUP BY\" 연산자"
      ],
      "metadata": {
        "id": "YyCmwBXaPzpf"
      }
    },
    {
      "cell_type": "markdown",
      "source": [
        "* 중복값을 제외하고 1개의 고유값만 출력"
      ],
      "metadata": {
        "id": "UWuLQ66CP2Di"
      }
    },
    {
      "cell_type": "code",
      "source": [
        "sqldf(\"SELECt Grade FROM TB GROUP By Grade\")"
      ],
      "metadata": {
        "colab": {
          "base_uri": "https://localhost:8080/",
          "height": 258
        },
        "id": "L64wTkaNPzG-",
        "outputId": "3a3c4baf-9261-45b1-eae1-4de0a5f793b7"
      },
      "execution_count": 34,
      "outputs": [
        {
          "output_type": "display_data",
          "data": {
            "text/html": [
              "<table class=\"dataframe\">\n",
              "<caption>A data.frame: 4 × 1</caption>\n",
              "<thead>\n",
              "\t<tr><th scope=col>Grade</th></tr>\n",
              "\t<tr><th scope=col>&lt;int&gt;</th></tr>\n",
              "</thead>\n",
              "<tbody>\n",
              "\t<tr><td>1</td></tr>\n",
              "\t<tr><td>2</td></tr>\n",
              "\t<tr><td>3</td></tr>\n",
              "\t<tr><td>4</td></tr>\n",
              "</tbody>\n",
              "</table>\n"
            ],
            "text/markdown": "\nA data.frame: 4 × 1\n\n| Grade &lt;int&gt; |\n|---|\n| 1 |\n| 2 |\n| 3 |\n| 4 |\n\n",
            "text/latex": "A data.frame: 4 × 1\n\\begin{tabular}{l}\n Grade\\\\\n <int>\\\\\n\\hline\n\t 1\\\\\n\t 2\\\\\n\t 3\\\\\n\t 4\\\\\n\\end{tabular}\n",
            "text/plain": [
              "  Grade\n",
              "1 1    \n",
              "2 2    \n",
              "3 3    \n",
              "4 4    "
            ]
          },
          "metadata": {}
        }
      ]
    },
    {
      "cell_type": "markdown",
      "source": [
        "### 7) \"SUM()\" 연산"
      ],
      "metadata": {
        "id": "SAgfdqbaP97L"
      }
    },
    {
      "cell_type": "code",
      "source": [
        "sqldf(\"SELECT Grade, SUM(Age), SUM(Height), SUM(Weight)\n",
        "        FROM TB GROUP BY Grade\")"
      ],
      "metadata": {
        "colab": {
          "base_uri": "https://localhost:8080/",
          "height": 223
        },
        "id": "hYQOMNJbP7Cp",
        "outputId": "a563c221-4c59-4a29-8add-603759a563d7"
      },
      "execution_count": 35,
      "outputs": [
        {
          "output_type": "display_data",
          "data": {
            "text/html": [
              "<table class=\"dataframe\">\n",
              "<caption>A data.frame: 4 × 4</caption>\n",
              "<thead>\n",
              "\t<tr><th scope=col>Grade</th><th scope=col>SUM(Age)</th><th scope=col>SUM(Height)</th><th scope=col>SUM(Weight)</th></tr>\n",
              "\t<tr><th scope=col>&lt;int&gt;</th><th scope=col>&lt;int&gt;</th><th scope=col>&lt;dbl&gt;</th><th scope=col>&lt;dbl&gt;</th></tr>\n",
              "</thead>\n",
              "<tbody>\n",
              "\t<tr><td>1</td><td>108</td><td>832.6</td><td>268.2</td></tr>\n",
              "\t<tr><td>2</td><td>112</td><td>845.1</td><td>287.8</td></tr>\n",
              "\t<tr><td>3</td><td> 90</td><td>702.5</td><td>271.8</td></tr>\n",
              "\t<tr><td>4</td><td> 70</td><td>512.1</td><td>211.3</td></tr>\n",
              "</tbody>\n",
              "</table>\n"
            ],
            "text/markdown": "\nA data.frame: 4 × 4\n\n| Grade &lt;int&gt; | SUM(Age) &lt;int&gt; | SUM(Height) &lt;dbl&gt; | SUM(Weight) &lt;dbl&gt; |\n|---|---|---|---|\n| 1 | 108 | 832.6 | 268.2 |\n| 2 | 112 | 845.1 | 287.8 |\n| 3 |  90 | 702.5 | 271.8 |\n| 4 |  70 | 512.1 | 211.3 |\n\n",
            "text/latex": "A data.frame: 4 × 4\n\\begin{tabular}{llll}\n Grade & SUM(Age) & SUM(Height) & SUM(Weight)\\\\\n <int> & <int> & <dbl> & <dbl>\\\\\n\\hline\n\t 1 & 108 & 832.6 & 268.2\\\\\n\t 2 & 112 & 845.1 & 287.8\\\\\n\t 3 &  90 & 702.5 & 271.8\\\\\n\t 4 &  70 & 512.1 & 211.3\\\\\n\\end{tabular}\n",
            "text/plain": [
              "  Grade SUM(Age) SUM(Height) SUM(Weight)\n",
              "1 1     108      832.6       268.2      \n",
              "2 2     112      845.1       287.8      \n",
              "3 3      90      702.5       271.8      \n",
              "4 4      70      512.1       211.3      "
            ]
          },
          "metadata": {}
        }
      ]
    },
    {
      "cell_type": "markdown",
      "source": [
        "### 8) \"AVG()\" 연산"
      ],
      "metadata": {
        "id": "RppP77MRQLiw"
      }
    },
    {
      "cell_type": "code",
      "source": [
        "sqldf(\"SELECT Grade, AVG(Age), AVG(Height), AVG(Weight)\n",
        "          FROM TB GROUP BY Grade\")"
      ],
      "metadata": {
        "colab": {
          "base_uri": "https://localhost:8080/",
          "height": 223
        },
        "id": "yNbyyhICQGkW",
        "outputId": "900c5398-3535-42db-e7b6-ce52111719b1"
      },
      "execution_count": 36,
      "outputs": [
        {
          "output_type": "display_data",
          "data": {
            "text/html": [
              "<table class=\"dataframe\">\n",
              "<caption>A data.frame: 4 × 4</caption>\n",
              "<thead>\n",
              "\t<tr><th scope=col>Grade</th><th scope=col>AVG(Age)</th><th scope=col>AVG(Height)</th><th scope=col>AVG(Weight)</th></tr>\n",
              "\t<tr><th scope=col>&lt;int&gt;</th><th scope=col>&lt;dbl&gt;</th><th scope=col>&lt;dbl&gt;</th><th scope=col>&lt;dbl&gt;</th></tr>\n",
              "</thead>\n",
              "<tbody>\n",
              "\t<tr><td>1</td><td>21.60000</td><td>166.520</td><td>53.64000</td></tr>\n",
              "\t<tr><td>2</td><td>22.40000</td><td>169.020</td><td>57.56000</td></tr>\n",
              "\t<tr><td>3</td><td>22.50000</td><td>175.625</td><td>67.95000</td></tr>\n",
              "\t<tr><td>4</td><td>23.33333</td><td>170.700</td><td>70.43333</td></tr>\n",
              "</tbody>\n",
              "</table>\n"
            ],
            "text/markdown": "\nA data.frame: 4 × 4\n\n| Grade &lt;int&gt; | AVG(Age) &lt;dbl&gt; | AVG(Height) &lt;dbl&gt; | AVG(Weight) &lt;dbl&gt; |\n|---|---|---|---|\n| 1 | 21.60000 | 166.520 | 53.64000 |\n| 2 | 22.40000 | 169.020 | 57.56000 |\n| 3 | 22.50000 | 175.625 | 67.95000 |\n| 4 | 23.33333 | 170.700 | 70.43333 |\n\n",
            "text/latex": "A data.frame: 4 × 4\n\\begin{tabular}{llll}\n Grade & AVG(Age) & AVG(Height) & AVG(Weight)\\\\\n <int> & <dbl> & <dbl> & <dbl>\\\\\n\\hline\n\t 1 & 21.60000 & 166.520 & 53.64000\\\\\n\t 2 & 22.40000 & 169.020 & 57.56000\\\\\n\t 3 & 22.50000 & 175.625 & 67.95000\\\\\n\t 4 & 23.33333 & 170.700 & 70.43333\\\\\n\\end{tabular}\n",
            "text/plain": [
              "  Grade AVG(Age) AVG(Height) AVG(Weight)\n",
              "1 1     21.60000 166.520     53.64000   \n",
              "2 2     22.40000 169.020     57.56000   \n",
              "3 3     22.50000 175.625     67.95000   \n",
              "4 4     23.33333 170.700     70.43333   "
            ]
          },
          "metadata": {}
        }
      ]
    },
    {
      "cell_type": "markdown",
      "source": [
        "### 9) \"HAVING\" 연산자"
      ],
      "metadata": {
        "id": "JNiu6u2JQykC"
      }
    },
    {
      "cell_type": "code",
      "source": [
        "sqldf(\"SELECT Grade, AVG(Age), AVG(Height), AVG(Weight)\n",
        "          FROM TB\n",
        "          GROUP BY Grade\n",
        "          HAVING AVG(Height) > 170\")"
      ],
      "metadata": {
        "colab": {
          "base_uri": "https://localhost:8080/",
          "height": 161
        },
        "id": "hnnqczm8QUyn",
        "outputId": "8f839b4f-d6ec-4d61-c66c-01fa983babad"
      },
      "execution_count": 38,
      "outputs": [
        {
          "output_type": "display_data",
          "data": {
            "text/html": [
              "<table class=\"dataframe\">\n",
              "<caption>A data.frame: 2 × 4</caption>\n",
              "<thead>\n",
              "\t<tr><th scope=col>Grade</th><th scope=col>AVG(Age)</th><th scope=col>AVG(Height)</th><th scope=col>AVG(Weight)</th></tr>\n",
              "\t<tr><th scope=col>&lt;int&gt;</th><th scope=col>&lt;dbl&gt;</th><th scope=col>&lt;dbl&gt;</th><th scope=col>&lt;dbl&gt;</th></tr>\n",
              "</thead>\n",
              "<tbody>\n",
              "\t<tr><td>3</td><td>22.50000</td><td>175.625</td><td>67.95000</td></tr>\n",
              "\t<tr><td>4</td><td>23.33333</td><td>170.700</td><td>70.43333</td></tr>\n",
              "</tbody>\n",
              "</table>\n"
            ],
            "text/markdown": "\nA data.frame: 2 × 4\n\n| Grade &lt;int&gt; | AVG(Age) &lt;dbl&gt; | AVG(Height) &lt;dbl&gt; | AVG(Weight) &lt;dbl&gt; |\n|---|---|---|---|\n| 3 | 22.50000 | 175.625 | 67.95000 |\n| 4 | 23.33333 | 170.700 | 70.43333 |\n\n",
            "text/latex": "A data.frame: 2 × 4\n\\begin{tabular}{llll}\n Grade & AVG(Age) & AVG(Height) & AVG(Weight)\\\\\n <int> & <dbl> & <dbl> & <dbl>\\\\\n\\hline\n\t 3 & 22.50000 & 175.625 & 67.95000\\\\\n\t 4 & 23.33333 & 170.700 & 70.43333\\\\\n\\end{tabular}\n",
            "text/plain": [
              "  Grade AVG(Age) AVG(Height) AVG(Weight)\n",
              "1 3     22.50000 175.625     67.95000   \n",
              "2 4     23.33333 170.700     70.43333   "
            ]
          },
          "metadata": {}
        }
      ]
    },
    {
      "cell_type": "markdown",
      "source": [
        "### 10) \"ORDER BY\" 연산자"
      ],
      "metadata": {
        "id": "haPZdTHpRDIZ"
      }
    },
    {
      "cell_type": "markdown",
      "source": [
        "* 오름차순 : ASC, 내림차순 : DESC"
      ],
      "metadata": {
        "id": "9TFpz-6SRFfq"
      }
    },
    {
      "cell_type": "code",
      "source": [
        "sqldf(\"SELECT * FROM TB WHERE Height > 170\")"
      ],
      "metadata": {
        "colab": {
          "base_uri": "https://localhost:8080/",
          "height": 317
        },
        "id": "RhaQrEP-Q-Sy",
        "outputId": "6bd85766-7483-413c-87f2-d0479e775205"
      },
      "execution_count": 39,
      "outputs": [
        {
          "output_type": "display_data",
          "data": {
            "text/html": [
              "<table class=\"dataframe\">\n",
              "<caption>A data.frame: 7 × 8</caption>\n",
              "<thead>\n",
              "\t<tr><th scope=col>Name</th><th scope=col>Gender</th><th scope=col>Age</th><th scope=col>Grade</th><th scope=col>Picture</th><th scope=col>BloodType</th><th scope=col>Height</th><th scope=col>Weight</th></tr>\n",
              "\t<tr><th scope=col>&lt;chr&gt;</th><th scope=col>&lt;chr&gt;</th><th scope=col>&lt;int&gt;</th><th scope=col>&lt;int&gt;</th><th scope=col>&lt;chr&gt;</th><th scope=col>&lt;chr&gt;</th><th scope=col>&lt;dbl&gt;</th><th scope=col>&lt;dbl&gt;</th></tr>\n",
              "</thead>\n",
              "<tbody>\n",
              "\t<tr><td>송태섭</td><td>남자</td><td>21</td><td>3</td><td>무</td><td>B </td><td>179.1</td><td>63.9</td></tr>\n",
              "\t<tr><td>최유정</td><td>여자</td><td>23</td><td>1</td><td>유</td><td>A </td><td>177.1</td><td>54.9</td></tr>\n",
              "\t<tr><td>김소혜</td><td>여자</td><td>23</td><td>3</td><td>무</td><td>O </td><td>176.1</td><td>53.5</td></tr>\n",
              "\t<tr><td>서태웅</td><td>남자</td><td>24</td><td>4</td><td>무</td><td>B </td><td>176.1</td><td>79.8</td></tr>\n",
              "\t<tr><td>정대만</td><td>남자</td><td>24</td><td>2</td><td>유</td><td>B </td><td>175.2</td><td>61.7</td></tr>\n",
              "\t<tr><td>채치수</td><td>남자</td><td>23</td><td>3</td><td>무</td><td>AB</td><td>181.8</td><td>85.9</td></tr>\n",
              "\t<tr><td>윤대협</td><td>남자</td><td>22</td><td>2</td><td>유</td><td>AB</td><td>180.3</td><td>76.2</td></tr>\n",
              "</tbody>\n",
              "</table>\n"
            ],
            "text/markdown": "\nA data.frame: 7 × 8\n\n| Name &lt;chr&gt; | Gender &lt;chr&gt; | Age &lt;int&gt; | Grade &lt;int&gt; | Picture &lt;chr&gt; | BloodType &lt;chr&gt; | Height &lt;dbl&gt; | Weight &lt;dbl&gt; |\n|---|---|---|---|---|---|---|---|\n| 송태섭 | 남자 | 21 | 3 | 무 | B  | 179.1 | 63.9 |\n| 최유정 | 여자 | 23 | 1 | 유 | A  | 177.1 | 54.9 |\n| 김소혜 | 여자 | 23 | 3 | 무 | O  | 176.1 | 53.5 |\n| 서태웅 | 남자 | 24 | 4 | 무 | B  | 176.1 | 79.8 |\n| 정대만 | 남자 | 24 | 2 | 유 | B  | 175.2 | 61.7 |\n| 채치수 | 남자 | 23 | 3 | 무 | AB | 181.8 | 85.9 |\n| 윤대협 | 남자 | 22 | 2 | 유 | AB | 180.3 | 76.2 |\n\n",
            "text/latex": "A data.frame: 7 × 8\n\\begin{tabular}{llllllll}\n Name & Gender & Age & Grade & Picture & BloodType & Height & Weight\\\\\n <chr> & <chr> & <int> & <int> & <chr> & <chr> & <dbl> & <dbl>\\\\\n\\hline\n\t 송태섭 & 남자 & 21 & 3 & 무 & B  & 179.1 & 63.9\\\\\n\t 최유정 & 여자 & 23 & 1 & 유 & A  & 177.1 & 54.9\\\\\n\t 김소혜 & 여자 & 23 & 3 & 무 & O  & 176.1 & 53.5\\\\\n\t 서태웅 & 남자 & 24 & 4 & 무 & B  & 176.1 & 79.8\\\\\n\t 정대만 & 남자 & 24 & 2 & 유 & B  & 175.2 & 61.7\\\\\n\t 채치수 & 남자 & 23 & 3 & 무 & AB & 181.8 & 85.9\\\\\n\t 윤대협 & 남자 & 22 & 2 & 유 & AB & 180.3 & 76.2\\\\\n\\end{tabular}\n",
            "text/plain": [
              "  Name   Gender Age Grade Picture BloodType Height Weight\n",
              "1 송태섭 남자   21  3     무      B         179.1  63.9  \n",
              "2 최유정 여자   23  1     유      A         177.1  54.9  \n",
              "3 김소혜 여자   23  3     무      O         176.1  53.5  \n",
              "4 서태웅 남자   24  4     무      B         176.1  79.8  \n",
              "5 정대만 남자   24  2     유      B         175.2  61.7  \n",
              "6 채치수 남자   23  3     무      AB        181.8  85.9  \n",
              "7 윤대협 남자   22  2     유      AB        180.3  76.2  "
            ]
          },
          "metadata": {}
        }
      ]
    },
    {
      "cell_type": "markdown",
      "source": [
        "* Height 기준"
      ],
      "metadata": {
        "id": "wa8PEiR2Rcl2"
      }
    },
    {
      "cell_type": "code",
      "source": [
        "sqldf(\"SELECT * FROM TB WHERE Height > 170 ORDER BY Height ASC\")"
      ],
      "metadata": {
        "colab": {
          "base_uri": "https://localhost:8080/",
          "height": 317
        },
        "id": "55KyfALgRb1D",
        "outputId": "5429aaaa-eaa8-4891-f73f-b61b8ea279c0"
      },
      "execution_count": 40,
      "outputs": [
        {
          "output_type": "display_data",
          "data": {
            "text/html": [
              "<table class=\"dataframe\">\n",
              "<caption>A data.frame: 7 × 8</caption>\n",
              "<thead>\n",
              "\t<tr><th scope=col>Name</th><th scope=col>Gender</th><th scope=col>Age</th><th scope=col>Grade</th><th scope=col>Picture</th><th scope=col>BloodType</th><th scope=col>Height</th><th scope=col>Weight</th></tr>\n",
              "\t<tr><th scope=col>&lt;chr&gt;</th><th scope=col>&lt;chr&gt;</th><th scope=col>&lt;int&gt;</th><th scope=col>&lt;int&gt;</th><th scope=col>&lt;chr&gt;</th><th scope=col>&lt;chr&gt;</th><th scope=col>&lt;dbl&gt;</th><th scope=col>&lt;dbl&gt;</th></tr>\n",
              "</thead>\n",
              "<tbody>\n",
              "\t<tr><td>정대만</td><td>남자</td><td>24</td><td>2</td><td>유</td><td>B </td><td>175.2</td><td>61.7</td></tr>\n",
              "\t<tr><td>김소혜</td><td>여자</td><td>23</td><td>3</td><td>무</td><td>O </td><td>176.1</td><td>53.5</td></tr>\n",
              "\t<tr><td>서태웅</td><td>남자</td><td>24</td><td>4</td><td>무</td><td>B </td><td>176.1</td><td>79.8</td></tr>\n",
              "\t<tr><td>최유정</td><td>여자</td><td>23</td><td>1</td><td>유</td><td>A </td><td>177.1</td><td>54.9</td></tr>\n",
              "\t<tr><td>송태섭</td><td>남자</td><td>21</td><td>3</td><td>무</td><td>B </td><td>179.1</td><td>63.9</td></tr>\n",
              "\t<tr><td>윤대협</td><td>남자</td><td>22</td><td>2</td><td>유</td><td>AB</td><td>180.3</td><td>76.2</td></tr>\n",
              "\t<tr><td>채치수</td><td>남자</td><td>23</td><td>3</td><td>무</td><td>AB</td><td>181.8</td><td>85.9</td></tr>\n",
              "</tbody>\n",
              "</table>\n"
            ],
            "text/markdown": "\nA data.frame: 7 × 8\n\n| Name &lt;chr&gt; | Gender &lt;chr&gt; | Age &lt;int&gt; | Grade &lt;int&gt; | Picture &lt;chr&gt; | BloodType &lt;chr&gt; | Height &lt;dbl&gt; | Weight &lt;dbl&gt; |\n|---|---|---|---|---|---|---|---|\n| 정대만 | 남자 | 24 | 2 | 유 | B  | 175.2 | 61.7 |\n| 김소혜 | 여자 | 23 | 3 | 무 | O  | 176.1 | 53.5 |\n| 서태웅 | 남자 | 24 | 4 | 무 | B  | 176.1 | 79.8 |\n| 최유정 | 여자 | 23 | 1 | 유 | A  | 177.1 | 54.9 |\n| 송태섭 | 남자 | 21 | 3 | 무 | B  | 179.1 | 63.9 |\n| 윤대협 | 남자 | 22 | 2 | 유 | AB | 180.3 | 76.2 |\n| 채치수 | 남자 | 23 | 3 | 무 | AB | 181.8 | 85.9 |\n\n",
            "text/latex": "A data.frame: 7 × 8\n\\begin{tabular}{llllllll}\n Name & Gender & Age & Grade & Picture & BloodType & Height & Weight\\\\\n <chr> & <chr> & <int> & <int> & <chr> & <chr> & <dbl> & <dbl>\\\\\n\\hline\n\t 정대만 & 남자 & 24 & 2 & 유 & B  & 175.2 & 61.7\\\\\n\t 김소혜 & 여자 & 23 & 3 & 무 & O  & 176.1 & 53.5\\\\\n\t 서태웅 & 남자 & 24 & 4 & 무 & B  & 176.1 & 79.8\\\\\n\t 최유정 & 여자 & 23 & 1 & 유 & A  & 177.1 & 54.9\\\\\n\t 송태섭 & 남자 & 21 & 3 & 무 & B  & 179.1 & 63.9\\\\\n\t 윤대협 & 남자 & 22 & 2 & 유 & AB & 180.3 & 76.2\\\\\n\t 채치수 & 남자 & 23 & 3 & 무 & AB & 181.8 & 85.9\\\\\n\\end{tabular}\n",
            "text/plain": [
              "  Name   Gender Age Grade Picture BloodType Height Weight\n",
              "1 정대만 남자   24  2     유      B         175.2  61.7  \n",
              "2 김소혜 여자   23  3     무      O         176.1  53.5  \n",
              "3 서태웅 남자   24  4     무      B         176.1  79.8  \n",
              "4 최유정 여자   23  1     유      A         177.1  54.9  \n",
              "5 송태섭 남자   21  3     무      B         179.1  63.9  \n",
              "6 윤대협 남자   22  2     유      AB        180.3  76.2  \n",
              "7 채치수 남자   23  3     무      AB        181.8  85.9  "
            ]
          },
          "metadata": {}
        }
      ]
    },
    {
      "cell_type": "code",
      "source": [
        "sqldf(\"SELECT * FROM TB WHERE Height > 170 ORDER BY Height DESC\")"
      ],
      "metadata": {
        "colab": {
          "base_uri": "https://localhost:8080/",
          "height": 317
        },
        "id": "ItJ57bunRg_D",
        "outputId": "c88ebc34-cb3a-4723-8ac2-036bfbbefb47"
      },
      "execution_count": 41,
      "outputs": [
        {
          "output_type": "display_data",
          "data": {
            "text/html": [
              "<table class=\"dataframe\">\n",
              "<caption>A data.frame: 7 × 8</caption>\n",
              "<thead>\n",
              "\t<tr><th scope=col>Name</th><th scope=col>Gender</th><th scope=col>Age</th><th scope=col>Grade</th><th scope=col>Picture</th><th scope=col>BloodType</th><th scope=col>Height</th><th scope=col>Weight</th></tr>\n",
              "\t<tr><th scope=col>&lt;chr&gt;</th><th scope=col>&lt;chr&gt;</th><th scope=col>&lt;int&gt;</th><th scope=col>&lt;int&gt;</th><th scope=col>&lt;chr&gt;</th><th scope=col>&lt;chr&gt;</th><th scope=col>&lt;dbl&gt;</th><th scope=col>&lt;dbl&gt;</th></tr>\n",
              "</thead>\n",
              "<tbody>\n",
              "\t<tr><td>채치수</td><td>남자</td><td>23</td><td>3</td><td>무</td><td>AB</td><td>181.8</td><td>85.9</td></tr>\n",
              "\t<tr><td>윤대협</td><td>남자</td><td>22</td><td>2</td><td>유</td><td>AB</td><td>180.3</td><td>76.2</td></tr>\n",
              "\t<tr><td>송태섭</td><td>남자</td><td>21</td><td>3</td><td>무</td><td>B </td><td>179.1</td><td>63.9</td></tr>\n",
              "\t<tr><td>최유정</td><td>여자</td><td>23</td><td>1</td><td>유</td><td>A </td><td>177.1</td><td>54.9</td></tr>\n",
              "\t<tr><td>김소혜</td><td>여자</td><td>23</td><td>3</td><td>무</td><td>O </td><td>176.1</td><td>53.5</td></tr>\n",
              "\t<tr><td>서태웅</td><td>남자</td><td>24</td><td>4</td><td>무</td><td>B </td><td>176.1</td><td>79.8</td></tr>\n",
              "\t<tr><td>정대만</td><td>남자</td><td>24</td><td>2</td><td>유</td><td>B </td><td>175.2</td><td>61.7</td></tr>\n",
              "</tbody>\n",
              "</table>\n"
            ],
            "text/markdown": "\nA data.frame: 7 × 8\n\n| Name &lt;chr&gt; | Gender &lt;chr&gt; | Age &lt;int&gt; | Grade &lt;int&gt; | Picture &lt;chr&gt; | BloodType &lt;chr&gt; | Height &lt;dbl&gt; | Weight &lt;dbl&gt; |\n|---|---|---|---|---|---|---|---|\n| 채치수 | 남자 | 23 | 3 | 무 | AB | 181.8 | 85.9 |\n| 윤대협 | 남자 | 22 | 2 | 유 | AB | 180.3 | 76.2 |\n| 송태섭 | 남자 | 21 | 3 | 무 | B  | 179.1 | 63.9 |\n| 최유정 | 여자 | 23 | 1 | 유 | A  | 177.1 | 54.9 |\n| 김소혜 | 여자 | 23 | 3 | 무 | O  | 176.1 | 53.5 |\n| 서태웅 | 남자 | 24 | 4 | 무 | B  | 176.1 | 79.8 |\n| 정대만 | 남자 | 24 | 2 | 유 | B  | 175.2 | 61.7 |\n\n",
            "text/latex": "A data.frame: 7 × 8\n\\begin{tabular}{llllllll}\n Name & Gender & Age & Grade & Picture & BloodType & Height & Weight\\\\\n <chr> & <chr> & <int> & <int> & <chr> & <chr> & <dbl> & <dbl>\\\\\n\\hline\n\t 채치수 & 남자 & 23 & 3 & 무 & AB & 181.8 & 85.9\\\\\n\t 윤대협 & 남자 & 22 & 2 & 유 & AB & 180.3 & 76.2\\\\\n\t 송태섭 & 남자 & 21 & 3 & 무 & B  & 179.1 & 63.9\\\\\n\t 최유정 & 여자 & 23 & 1 & 유 & A  & 177.1 & 54.9\\\\\n\t 김소혜 & 여자 & 23 & 3 & 무 & O  & 176.1 & 53.5\\\\\n\t 서태웅 & 남자 & 24 & 4 & 무 & B  & 176.1 & 79.8\\\\\n\t 정대만 & 남자 & 24 & 2 & 유 & B  & 175.2 & 61.7\\\\\n\\end{tabular}\n",
            "text/plain": [
              "  Name   Gender Age Grade Picture BloodType Height Weight\n",
              "1 채치수 남자   23  3     무      AB        181.8  85.9  \n",
              "2 윤대협 남자   22  2     유      AB        180.3  76.2  \n",
              "3 송태섭 남자   21  3     무      B         179.1  63.9  \n",
              "4 최유정 여자   23  1     유      A         177.1  54.9  \n",
              "5 김소혜 여자   23  3     무      O         176.1  53.5  \n",
              "6 서태웅 남자   24  4     무      B         176.1  79.8  \n",
              "7 정대만 남자   24  2     유      B         175.2  61.7  "
            ]
          },
          "metadata": {}
        }
      ]
    },
    {
      "cell_type": "markdown",
      "source": [
        "* Weight 기준"
      ],
      "metadata": {
        "id": "2g9vGn59SH-5"
      }
    },
    {
      "cell_type": "code",
      "source": [
        "sqldf(\"SELECT * FROM TB WHERE Height > 170 ORDER BY Weight ASC\")"
      ],
      "metadata": {
        "colab": {
          "base_uri": "https://localhost:8080/",
          "height": 317
        },
        "id": "5KSeZEKuRllF",
        "outputId": "3a5a2e50-8acc-4800-fb5d-6199c05a3597"
      },
      "execution_count": 42,
      "outputs": [
        {
          "output_type": "display_data",
          "data": {
            "text/html": [
              "<table class=\"dataframe\">\n",
              "<caption>A data.frame: 7 × 8</caption>\n",
              "<thead>\n",
              "\t<tr><th scope=col>Name</th><th scope=col>Gender</th><th scope=col>Age</th><th scope=col>Grade</th><th scope=col>Picture</th><th scope=col>BloodType</th><th scope=col>Height</th><th scope=col>Weight</th></tr>\n",
              "\t<tr><th scope=col>&lt;chr&gt;</th><th scope=col>&lt;chr&gt;</th><th scope=col>&lt;int&gt;</th><th scope=col>&lt;int&gt;</th><th scope=col>&lt;chr&gt;</th><th scope=col>&lt;chr&gt;</th><th scope=col>&lt;dbl&gt;</th><th scope=col>&lt;dbl&gt;</th></tr>\n",
              "</thead>\n",
              "<tbody>\n",
              "\t<tr><td>김소혜</td><td>여자</td><td>23</td><td>3</td><td>무</td><td>O </td><td>176.1</td><td>53.5</td></tr>\n",
              "\t<tr><td>최유정</td><td>여자</td><td>23</td><td>1</td><td>유</td><td>A </td><td>177.1</td><td>54.9</td></tr>\n",
              "\t<tr><td>정대만</td><td>남자</td><td>24</td><td>2</td><td>유</td><td>B </td><td>175.2</td><td>61.7</td></tr>\n",
              "\t<tr><td>송태섭</td><td>남자</td><td>21</td><td>3</td><td>무</td><td>B </td><td>179.1</td><td>63.9</td></tr>\n",
              "\t<tr><td>윤대협</td><td>남자</td><td>22</td><td>2</td><td>유</td><td>AB</td><td>180.3</td><td>76.2</td></tr>\n",
              "\t<tr><td>서태웅</td><td>남자</td><td>24</td><td>4</td><td>무</td><td>B </td><td>176.1</td><td>79.8</td></tr>\n",
              "\t<tr><td>채치수</td><td>남자</td><td>23</td><td>3</td><td>무</td><td>AB</td><td>181.8</td><td>85.9</td></tr>\n",
              "</tbody>\n",
              "</table>\n"
            ],
            "text/markdown": "\nA data.frame: 7 × 8\n\n| Name &lt;chr&gt; | Gender &lt;chr&gt; | Age &lt;int&gt; | Grade &lt;int&gt; | Picture &lt;chr&gt; | BloodType &lt;chr&gt; | Height &lt;dbl&gt; | Weight &lt;dbl&gt; |\n|---|---|---|---|---|---|---|---|\n| 김소혜 | 여자 | 23 | 3 | 무 | O  | 176.1 | 53.5 |\n| 최유정 | 여자 | 23 | 1 | 유 | A  | 177.1 | 54.9 |\n| 정대만 | 남자 | 24 | 2 | 유 | B  | 175.2 | 61.7 |\n| 송태섭 | 남자 | 21 | 3 | 무 | B  | 179.1 | 63.9 |\n| 윤대협 | 남자 | 22 | 2 | 유 | AB | 180.3 | 76.2 |\n| 서태웅 | 남자 | 24 | 4 | 무 | B  | 176.1 | 79.8 |\n| 채치수 | 남자 | 23 | 3 | 무 | AB | 181.8 | 85.9 |\n\n",
            "text/latex": "A data.frame: 7 × 8\n\\begin{tabular}{llllllll}\n Name & Gender & Age & Grade & Picture & BloodType & Height & Weight\\\\\n <chr> & <chr> & <int> & <int> & <chr> & <chr> & <dbl> & <dbl>\\\\\n\\hline\n\t 김소혜 & 여자 & 23 & 3 & 무 & O  & 176.1 & 53.5\\\\\n\t 최유정 & 여자 & 23 & 1 & 유 & A  & 177.1 & 54.9\\\\\n\t 정대만 & 남자 & 24 & 2 & 유 & B  & 175.2 & 61.7\\\\\n\t 송태섭 & 남자 & 21 & 3 & 무 & B  & 179.1 & 63.9\\\\\n\t 윤대협 & 남자 & 22 & 2 & 유 & AB & 180.3 & 76.2\\\\\n\t 서태웅 & 남자 & 24 & 4 & 무 & B  & 176.1 & 79.8\\\\\n\t 채치수 & 남자 & 23 & 3 & 무 & AB & 181.8 & 85.9\\\\\n\\end{tabular}\n",
            "text/plain": [
              "  Name   Gender Age Grade Picture BloodType Height Weight\n",
              "1 김소혜 여자   23  3     무      O         176.1  53.5  \n",
              "2 최유정 여자   23  1     유      A         177.1  54.9  \n",
              "3 정대만 남자   24  2     유      B         175.2  61.7  \n",
              "4 송태섭 남자   21  3     무      B         179.1  63.9  \n",
              "5 윤대협 남자   22  2     유      AB        180.3  76.2  \n",
              "6 서태웅 남자   24  4     무      B         176.1  79.8  \n",
              "7 채치수 남자   23  3     무      AB        181.8  85.9  "
            ]
          },
          "metadata": {}
        }
      ]
    },
    {
      "cell_type": "code",
      "source": [
        "sqldf(\"SELECT * FROM TB WHERE Height > 170 ORDER BY Weight DESC\")"
      ],
      "metadata": {
        "colab": {
          "base_uri": "https://localhost:8080/",
          "height": 317
        },
        "id": "KVc2zQktSLtT",
        "outputId": "5c04adda-9fcf-42c8-a0f2-a9087af5207b"
      },
      "execution_count": 44,
      "outputs": [
        {
          "output_type": "display_data",
          "data": {
            "text/html": [
              "<table class=\"dataframe\">\n",
              "<caption>A data.frame: 7 × 8</caption>\n",
              "<thead>\n",
              "\t<tr><th scope=col>Name</th><th scope=col>Gender</th><th scope=col>Age</th><th scope=col>Grade</th><th scope=col>Picture</th><th scope=col>BloodType</th><th scope=col>Height</th><th scope=col>Weight</th></tr>\n",
              "\t<tr><th scope=col>&lt;chr&gt;</th><th scope=col>&lt;chr&gt;</th><th scope=col>&lt;int&gt;</th><th scope=col>&lt;int&gt;</th><th scope=col>&lt;chr&gt;</th><th scope=col>&lt;chr&gt;</th><th scope=col>&lt;dbl&gt;</th><th scope=col>&lt;dbl&gt;</th></tr>\n",
              "</thead>\n",
              "<tbody>\n",
              "\t<tr><td>채치수</td><td>남자</td><td>23</td><td>3</td><td>무</td><td>AB</td><td>181.8</td><td>85.9</td></tr>\n",
              "\t<tr><td>서태웅</td><td>남자</td><td>24</td><td>4</td><td>무</td><td>B </td><td>176.1</td><td>79.8</td></tr>\n",
              "\t<tr><td>윤대협</td><td>남자</td><td>22</td><td>2</td><td>유</td><td>AB</td><td>180.3</td><td>76.2</td></tr>\n",
              "\t<tr><td>송태섭</td><td>남자</td><td>21</td><td>3</td><td>무</td><td>B </td><td>179.1</td><td>63.9</td></tr>\n",
              "\t<tr><td>정대만</td><td>남자</td><td>24</td><td>2</td><td>유</td><td>B </td><td>175.2</td><td>61.7</td></tr>\n",
              "\t<tr><td>최유정</td><td>여자</td><td>23</td><td>1</td><td>유</td><td>A </td><td>177.1</td><td>54.9</td></tr>\n",
              "\t<tr><td>김소혜</td><td>여자</td><td>23</td><td>3</td><td>무</td><td>O </td><td>176.1</td><td>53.5</td></tr>\n",
              "</tbody>\n",
              "</table>\n"
            ],
            "text/markdown": "\nA data.frame: 7 × 8\n\n| Name &lt;chr&gt; | Gender &lt;chr&gt; | Age &lt;int&gt; | Grade &lt;int&gt; | Picture &lt;chr&gt; | BloodType &lt;chr&gt; | Height &lt;dbl&gt; | Weight &lt;dbl&gt; |\n|---|---|---|---|---|---|---|---|\n| 채치수 | 남자 | 23 | 3 | 무 | AB | 181.8 | 85.9 |\n| 서태웅 | 남자 | 24 | 4 | 무 | B  | 176.1 | 79.8 |\n| 윤대협 | 남자 | 22 | 2 | 유 | AB | 180.3 | 76.2 |\n| 송태섭 | 남자 | 21 | 3 | 무 | B  | 179.1 | 63.9 |\n| 정대만 | 남자 | 24 | 2 | 유 | B  | 175.2 | 61.7 |\n| 최유정 | 여자 | 23 | 1 | 유 | A  | 177.1 | 54.9 |\n| 김소혜 | 여자 | 23 | 3 | 무 | O  | 176.1 | 53.5 |\n\n",
            "text/latex": "A data.frame: 7 × 8\n\\begin{tabular}{llllllll}\n Name & Gender & Age & Grade & Picture & BloodType & Height & Weight\\\\\n <chr> & <chr> & <int> & <int> & <chr> & <chr> & <dbl> & <dbl>\\\\\n\\hline\n\t 채치수 & 남자 & 23 & 3 & 무 & AB & 181.8 & 85.9\\\\\n\t 서태웅 & 남자 & 24 & 4 & 무 & B  & 176.1 & 79.8\\\\\n\t 윤대협 & 남자 & 22 & 2 & 유 & AB & 180.3 & 76.2\\\\\n\t 송태섭 & 남자 & 21 & 3 & 무 & B  & 179.1 & 63.9\\\\\n\t 정대만 & 남자 & 24 & 2 & 유 & B  & 175.2 & 61.7\\\\\n\t 최유정 & 여자 & 23 & 1 & 유 & A  & 177.1 & 54.9\\\\\n\t 김소혜 & 여자 & 23 & 3 & 무 & O  & 176.1 & 53.5\\\\\n\\end{tabular}\n",
            "text/plain": [
              "  Name   Gender Age Grade Picture BloodType Height Weight\n",
              "1 채치수 남자   23  3     무      AB        181.8  85.9  \n",
              "2 서태웅 남자   24  4     무      B         176.1  79.8  \n",
              "3 윤대협 남자   22  2     유      AB        180.3  76.2  \n",
              "4 송태섭 남자   21  3     무      B         179.1  63.9  \n",
              "5 정대만 남자   24  2     유      B         175.2  61.7  \n",
              "6 최유정 여자   23  1     유      A         177.1  54.9  \n",
              "7 김소혜 여자   23  3     무      O         176.1  53.5  "
            ]
          },
          "metadata": {}
        }
      ]
    },
    {
      "cell_type": "markdown",
      "source": [
        "### 11) \"AS\" 연산자"
      ],
      "metadata": {
        "id": "PAvgw9BmSWEK"
      }
    },
    {
      "cell_type": "markdown",
      "source": [
        "* 출력 Column Name 변경"
      ],
      "metadata": {
        "id": "yfLOWmGZSX3R"
      }
    },
    {
      "cell_type": "code",
      "source": [
        "sqldf(\"SELECT SUM(Height) AS SUM_Height FROM TB\")"
      ],
      "metadata": {
        "colab": {
          "base_uri": "https://localhost:8080/",
          "height": 147
        },
        "id": "NLTWDiGFSUJP",
        "outputId": "fff1c656-de78-4850-f648-dab980423353"
      },
      "execution_count": 45,
      "outputs": [
        {
          "output_type": "display_data",
          "data": {
            "text/html": [
              "<table class=\"dataframe\">\n",
              "<caption>A data.frame: 1 × 1</caption>\n",
              "<thead>\n",
              "\t<tr><th scope=col>SUM_Height</th></tr>\n",
              "\t<tr><th scope=col>&lt;dbl&gt;</th></tr>\n",
              "</thead>\n",
              "<tbody>\n",
              "\t<tr><td>2892.3</td></tr>\n",
              "</tbody>\n",
              "</table>\n"
            ],
            "text/markdown": "\nA data.frame: 1 × 1\n\n| SUM_Height &lt;dbl&gt; |\n|---|\n| 2892.3 |\n\n",
            "text/latex": "A data.frame: 1 × 1\n\\begin{tabular}{l}\n SUM\\_Height\\\\\n <dbl>\\\\\n\\hline\n\t 2892.3\\\\\n\\end{tabular}\n",
            "text/plain": [
              "  SUM_Height\n",
              "1 2892.3    "
            ]
          },
          "metadata": {}
        }
      ]
    },
    {
      "cell_type": "code",
      "source": [
        "sqldf(\"SELECT AVG(Height) AS AVG_Height, AVG(Weight) AS AVG_Weight\n",
        "        FROM TB\")"
      ],
      "metadata": {
        "colab": {
          "base_uri": "https://localhost:8080/",
          "height": 129
        },
        "id": "x4XTA1kLSfPY",
        "outputId": "a48ac6c5-1010-471f-d71c-1b13438c5cb9"
      },
      "execution_count": 46,
      "outputs": [
        {
          "output_type": "display_data",
          "data": {
            "text/html": [
              "<table class=\"dataframe\">\n",
              "<caption>A data.frame: 1 × 2</caption>\n",
              "<thead>\n",
              "\t<tr><th scope=col>AVG_Height</th><th scope=col>AVG_Weight</th></tr>\n",
              "\t<tr><th scope=col>&lt;dbl&gt;</th><th scope=col>&lt;dbl&gt;</th></tr>\n",
              "</thead>\n",
              "<tbody>\n",
              "\t<tr><td>170.1353</td><td>61.12353</td></tr>\n",
              "</tbody>\n",
              "</table>\n"
            ],
            "text/markdown": "\nA data.frame: 1 × 2\n\n| AVG_Height &lt;dbl&gt; | AVG_Weight &lt;dbl&gt; |\n|---|---|\n| 170.1353 | 61.12353 |\n\n",
            "text/latex": "A data.frame: 1 × 2\n\\begin{tabular}{ll}\n AVG\\_Height & AVG\\_Weight\\\\\n <dbl> & <dbl>\\\\\n\\hline\n\t 170.1353 & 61.12353\\\\\n\\end{tabular}\n",
            "text/plain": [
              "  AVG_Height AVG_Weight\n",
              "1 170.1353   61.12353  "
            ]
          },
          "metadata": {}
        }
      ]
    },
    {
      "cell_type": "code",
      "source": [
        ""
      ],
      "metadata": {
        "id": "4wdWheYjSnm9"
      },
      "execution_count": null,
      "outputs": []
    }
  ]
}